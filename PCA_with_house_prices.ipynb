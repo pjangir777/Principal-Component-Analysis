{
 "cells": [
  {
   "cell_type": "code",
   "execution_count": 2,
   "metadata": {
    "colab": {},
    "colab_type": "code",
    "id": "q0fJDP4QjYqU"
   },
   "outputs": [],
   "source": [
    "import pandas as pd\n",
    "import matplotlib.pyplot as plt\n",
    "import seaborn as sns\n",
    "import numpy as np\n",
    "from scipy.stats import norm\n",
    "from sklearn.preprocessing import StandardScaler\n",
    "from scipy import stats\n",
    "import warnings\n",
    "warnings.filterwarnings('ignore')\n",
    "%matplotlib inline\n",
    "import os"
   ]
  },
  {
   "cell_type": "markdown",
   "metadata": {
    "colab_type": "text",
    "id": "1sTXouxAlvtV"
   },
   "source": [
    "### Load the dataset"
   ]
  },
  {
   "cell_type": "code",
   "execution_count": 3,
   "metadata": {},
   "outputs": [],
   "source": [
    "os.chdir(\"C:\\\\Users\\\\Admin\\\\Desktop\\\\Training\\\\DSP31\\\\Python\\\\PCA\")"
   ]
  },
  {
   "cell_type": "code",
   "execution_count": 4,
   "metadata": {
    "colab": {},
    "colab_type": "code",
    "id": "Fm2gsV8qi6xY"
   },
   "outputs": [],
   "source": [
    "df_house_price = pd.read_csv('house_price.csv')"
   ]
  },
  {
   "cell_type": "code",
   "execution_count": 5,
   "metadata": {
    "colab": {
     "base_uri": "https://localhost:8080/",
     "height": 253
    },
    "colab_type": "code",
    "id": "F7Zv0yaNjwQI",
    "outputId": "9b33557d-6d29-4760-9edf-d567d9e349ec"
   },
   "outputs": [
    {
     "data": {
      "text/html": [
       "<div>\n",
       "<style scoped>\n",
       "    .dataframe tbody tr th:only-of-type {\n",
       "        vertical-align: middle;\n",
       "    }\n",
       "\n",
       "    .dataframe tbody tr th {\n",
       "        vertical-align: top;\n",
       "    }\n",
       "\n",
       "    .dataframe thead th {\n",
       "        text-align: right;\n",
       "    }\n",
       "</style>\n",
       "<table border=\"1\" class=\"dataframe\">\n",
       "  <thead>\n",
       "    <tr style=\"text-align: right;\">\n",
       "      <th></th>\n",
       "      <th>MSSubClass</th>\n",
       "      <th>MSZoning</th>\n",
       "      <th>LotFrontage</th>\n",
       "      <th>LotArea</th>\n",
       "      <th>Street</th>\n",
       "      <th>Alley</th>\n",
       "      <th>LotShape</th>\n",
       "      <th>LandContour</th>\n",
       "      <th>Utilities</th>\n",
       "      <th>LotConfig</th>\n",
       "      <th>...</th>\n",
       "      <th>PoolArea</th>\n",
       "      <th>PoolQC</th>\n",
       "      <th>Fence</th>\n",
       "      <th>MiscFeature</th>\n",
       "      <th>MiscVal</th>\n",
       "      <th>MoSold</th>\n",
       "      <th>YrSold</th>\n",
       "      <th>SaleType</th>\n",
       "      <th>SaleCondition</th>\n",
       "      <th>SalePrice</th>\n",
       "    </tr>\n",
       "  </thead>\n",
       "  <tbody>\n",
       "    <tr>\n",
       "      <td>0</td>\n",
       "      <td>60</td>\n",
       "      <td>RL</td>\n",
       "      <td>65.0</td>\n",
       "      <td>8450</td>\n",
       "      <td>Pave</td>\n",
       "      <td>NaN</td>\n",
       "      <td>Reg</td>\n",
       "      <td>Lvl</td>\n",
       "      <td>AllPub</td>\n",
       "      <td>Inside</td>\n",
       "      <td>...</td>\n",
       "      <td>0</td>\n",
       "      <td>NaN</td>\n",
       "      <td>NaN</td>\n",
       "      <td>NaN</td>\n",
       "      <td>0</td>\n",
       "      <td>2</td>\n",
       "      <td>2008</td>\n",
       "      <td>WD</td>\n",
       "      <td>Normal</td>\n",
       "      <td>208500</td>\n",
       "    </tr>\n",
       "    <tr>\n",
       "      <td>1</td>\n",
       "      <td>20</td>\n",
       "      <td>RL</td>\n",
       "      <td>80.0</td>\n",
       "      <td>9600</td>\n",
       "      <td>Pave</td>\n",
       "      <td>NaN</td>\n",
       "      <td>Reg</td>\n",
       "      <td>Lvl</td>\n",
       "      <td>AllPub</td>\n",
       "      <td>FR2</td>\n",
       "      <td>...</td>\n",
       "      <td>0</td>\n",
       "      <td>NaN</td>\n",
       "      <td>NaN</td>\n",
       "      <td>NaN</td>\n",
       "      <td>0</td>\n",
       "      <td>5</td>\n",
       "      <td>2007</td>\n",
       "      <td>WD</td>\n",
       "      <td>Normal</td>\n",
       "      <td>181500</td>\n",
       "    </tr>\n",
       "    <tr>\n",
       "      <td>2</td>\n",
       "      <td>60</td>\n",
       "      <td>RL</td>\n",
       "      <td>68.0</td>\n",
       "      <td>11250</td>\n",
       "      <td>Pave</td>\n",
       "      <td>NaN</td>\n",
       "      <td>IR1</td>\n",
       "      <td>Lvl</td>\n",
       "      <td>AllPub</td>\n",
       "      <td>Inside</td>\n",
       "      <td>...</td>\n",
       "      <td>0</td>\n",
       "      <td>NaN</td>\n",
       "      <td>NaN</td>\n",
       "      <td>NaN</td>\n",
       "      <td>0</td>\n",
       "      <td>9</td>\n",
       "      <td>2008</td>\n",
       "      <td>WD</td>\n",
       "      <td>Normal</td>\n",
       "      <td>223500</td>\n",
       "    </tr>\n",
       "    <tr>\n",
       "      <td>3</td>\n",
       "      <td>70</td>\n",
       "      <td>RL</td>\n",
       "      <td>60.0</td>\n",
       "      <td>9550</td>\n",
       "      <td>Pave</td>\n",
       "      <td>NaN</td>\n",
       "      <td>IR1</td>\n",
       "      <td>Lvl</td>\n",
       "      <td>AllPub</td>\n",
       "      <td>Corner</td>\n",
       "      <td>...</td>\n",
       "      <td>0</td>\n",
       "      <td>NaN</td>\n",
       "      <td>NaN</td>\n",
       "      <td>NaN</td>\n",
       "      <td>0</td>\n",
       "      <td>2</td>\n",
       "      <td>2006</td>\n",
       "      <td>WD</td>\n",
       "      <td>Abnorml</td>\n",
       "      <td>140000</td>\n",
       "    </tr>\n",
       "    <tr>\n",
       "      <td>4</td>\n",
       "      <td>60</td>\n",
       "      <td>RL</td>\n",
       "      <td>84.0</td>\n",
       "      <td>14260</td>\n",
       "      <td>Pave</td>\n",
       "      <td>NaN</td>\n",
       "      <td>IR1</td>\n",
       "      <td>Lvl</td>\n",
       "      <td>AllPub</td>\n",
       "      <td>FR2</td>\n",
       "      <td>...</td>\n",
       "      <td>0</td>\n",
       "      <td>NaN</td>\n",
       "      <td>NaN</td>\n",
       "      <td>NaN</td>\n",
       "      <td>0</td>\n",
       "      <td>12</td>\n",
       "      <td>2008</td>\n",
       "      <td>WD</td>\n",
       "      <td>Normal</td>\n",
       "      <td>250000</td>\n",
       "    </tr>\n",
       "  </tbody>\n",
       "</table>\n",
       "<p>5 rows × 80 columns</p>\n",
       "</div>"
      ],
      "text/plain": [
       "   MSSubClass MSZoning  LotFrontage  LotArea Street Alley LotShape  \\\n",
       "0          60       RL         65.0     8450   Pave   NaN      Reg   \n",
       "1          20       RL         80.0     9600   Pave   NaN      Reg   \n",
       "2          60       RL         68.0    11250   Pave   NaN      IR1   \n",
       "3          70       RL         60.0     9550   Pave   NaN      IR1   \n",
       "4          60       RL         84.0    14260   Pave   NaN      IR1   \n",
       "\n",
       "  LandContour Utilities LotConfig  ... PoolArea PoolQC Fence MiscFeature  \\\n",
       "0         Lvl    AllPub    Inside  ...        0    NaN   NaN         NaN   \n",
       "1         Lvl    AllPub       FR2  ...        0    NaN   NaN         NaN   \n",
       "2         Lvl    AllPub    Inside  ...        0    NaN   NaN         NaN   \n",
       "3         Lvl    AllPub    Corner  ...        0    NaN   NaN         NaN   \n",
       "4         Lvl    AllPub       FR2  ...        0    NaN   NaN         NaN   \n",
       "\n",
       "  MiscVal MoSold  YrSold  SaleType  SaleCondition  SalePrice  \n",
       "0       0      2    2008        WD         Normal     208500  \n",
       "1       0      5    2007        WD         Normal     181500  \n",
       "2       0      9    2008        WD         Normal     223500  \n",
       "3       0      2    2006        WD        Abnorml     140000  \n",
       "4       0     12    2008        WD         Normal     250000  \n",
       "\n",
       "[5 rows x 80 columns]"
      ]
     },
     "execution_count": 5,
     "metadata": {},
     "output_type": "execute_result"
    }
   ],
   "source": [
    "df_house_price.head()"
   ]
  },
  {
   "cell_type": "markdown",
   "metadata": {
    "colab_type": "text",
    "id": "tXAS6A0Rj7zY"
   },
   "source": [
    "###  Exploratory Data Analysis"
   ]
  },
  {
   "cell_type": "code",
   "execution_count": 7,
   "metadata": {
    "colab": {
     "base_uri": "https://localhost:8080/",
     "height": 323
    },
    "colab_type": "code",
    "id": "H83o91avj94r",
    "outputId": "54df69ea-0d66-48ce-d81d-313f60a76146"
   },
   "outputs": [
    {
     "data": {
      "text/plain": [
       "80"
      ]
     },
     "execution_count": 7,
     "metadata": {},
     "output_type": "execute_result"
    }
   ],
   "source": [
    "len(df_house_price.columns)"
   ]
  },
  {
   "cell_type": "code",
   "execution_count": 8,
   "metadata": {
    "colab": {
     "base_uri": "https://localhost:8080/",
     "height": 34
    },
    "colab_type": "code",
    "id": "65dpDRAqmD4s",
    "outputId": "572006c5-a0f9-472d-d1f4-0d34c4b98c8a"
   },
   "outputs": [
    {
     "data": {
      "text/plain": [
       "(1460, 80)"
      ]
     },
     "execution_count": 8,
     "metadata": {},
     "output_type": "execute_result"
    }
   ],
   "source": [
    "df_house_price.shape"
   ]
  },
  {
   "cell_type": "markdown",
   "metadata": {
    "colab_type": "text",
    "id": "bJh0kk4jEo-s"
   },
   "source": [
    "df_house_price has 80 columns (79 features + id and target SalePrice) and 1460 entries (number of rows or house sales)"
   ]
  },
  {
   "cell_type": "code",
   "execution_count": 9,
   "metadata": {
    "colab": {
     "base_uri": "https://localhost:8080/",
     "height": 51
    },
    "colab_type": "code",
    "id": "XqR-Zlt3q1MP",
    "outputId": "aedb3097-ed00-4384-a721-51909a7ac2be"
   },
   "outputs": [
    {
     "name": "stdout",
     "output_type": "stream",
     "text": [
      "Number of Numerical features:  37\n",
      "Number of Categorical features:  43\n"
     ]
    }
   ],
   "source": [
    "numerical_var = df_house_price.dtypes[df_house_price.dtypes != \"object\"].index\n",
    "print(\"Number of Numerical features: \", len(numerical_var))\n",
    "\n",
    "categorical_var = df_house_price.dtypes[df_house_price.dtypes == \"object\"]\n",
    "print(\"Number of Categorical features: \", len(categorical_var))"
   ]
  },
  {
   "cell_type": "markdown",
   "metadata": {
    "colab_type": "text",
    "id": "TTrZXZIYcUY9"
   },
   "source": [
    "The main check points would be the correlation between the numeric variables and target variable with multicollinearity."
   ]
  },
  {
   "cell_type": "code",
   "execution_count": 10,
   "metadata": {
    "colab": {
     "base_uri": "https://localhost:8080/",
     "height": 765
    },
    "colab_type": "code",
    "id": "ww0H2AijURGV",
    "outputId": "fcfc88ee-b858-40d7-cc08-ac567db10942"
   },
   "outputs": [
    {
     "data": {
      "image/png": "[encoded data removed]",
      "text/plain": [
       "<Figure size 1440x864 with 2 Axes>"
      ]
     },
     "metadata": {
      "needs_background": "light"
     },
     "output_type": "display_data"
    }
   ],
   "source": [
    "#filter numeric column only \n",
    "data_num = df_house_price[numerical_var]\n",
    "\n",
    "#calculating correlation among numeric variable \n",
    "corr_matrix = data_num.corr() \n",
    "\n",
    "#filter correlation values above 0.5\n",
    "filter_corr = corr_matrix[corr_matrix > 0.5]\n",
    "\n",
    "#plot correlation matrix\n",
    "plt.figure(figsize=(20,12))\n",
    "sns.heatmap(filter_corr,\n",
    "            cmap='coolwarm',\n",
    "            annot=True);"
   ]
  },
  {
   "cell_type": "markdown",
   "metadata": {
    "colab_type": "text",
    "id": "Plc0Vr6_ahJp"
   },
   "source": [
    "Based on the above correlation matrix, correlation among the variables been observed. For example, \n",
    "\"SalePrice\" are correlated with \"OverallQual\" , \"YearBuilt\", \"YearRemodAdd\", \"TotalBsmtSF\", \"1stFlrSF\", \"GrLivArea\", \"FullBath\", \"TotRmsAbvGrd\", \"GarageCars\", and \"GarageArea\". \n",
    "\n",
    "It also show the multicollinearity. For example: the correlation between GarageCars and GarageArea is very high (0.88)\n",
    "\n"
   ]
  },
  {
   "cell_type": "markdown",
   "metadata": {
    "colab_type": "text",
    "id": "-IXQzLNYnm1k"
   },
   "source": [
    "### SalePrice\n"
   ]
  },
  {
   "cell_type": "code",
   "execution_count": 9,
   "metadata": {
    "colab": {
     "base_uri": "https://localhost:8080/",
     "height": 296
    },
    "colab_type": "code",
    "id": "upM2zMprmTbK",
    "outputId": "4b764a2d-420d-49a3-ca67-820f9ac6c0c8"
   },
   "outputs": [
    {
     "data": {
      "text/plain": [
       "<matplotlib.axes._subplots.AxesSubplot at 0x7f567e368828>"
      ]
     },
     "execution_count": 9,
     "metadata": {
      "tags": []
     },
     "output_type": "execute_result"
    },
    {
     "data": {
      "image/png": "[encoded data removed]",
      "text/plain": [
       "<Figure size 432x288 with 1 Axes>"
      ]
     },
     "metadata": {
      "tags": []
     },
     "output_type": "display_data"
    }
   ],
   "source": [
    "sns.distplot(df_house_price['SalePrice'])"
   ]
  },
  {
   "cell_type": "markdown",
   "metadata": {
    "colab_type": "text",
    "id": "6HLt3c-P1esP"
   },
   "source": [
    "From the above result, We can notice that values of \"SalePrice\" are not a normal distribution. It is positively skewed.\n",
    "\n",
    "A Few people have very expensive house"
   ]
  },
  {
   "cell_type": "markdown",
   "metadata": {
    "colab_type": "text",
    "id": "z6waBfEC3WBQ"
   },
   "source": [
    "### Relationship with numerical variables\n"
   ]
  },
  {
   "cell_type": "markdown",
   "metadata": {
    "colab_type": "text",
    "id": "cHEucwdpf9BO"
   },
   "source": [
    "### Overall Quality"
   ]
  },
  {
   "cell_type": "code",
   "execution_count": 10,
   "metadata": {
    "colab": {
     "base_uri": "https://localhost:8080/",
     "height": 320
    },
    "colab_type": "code",
    "id": "6kza-dqScQOI",
    "outputId": "aafac468-4fc6-4382-e41b-75aeb675111c"
   },
   "outputs": [
    {
     "name": "stderr",
     "output_type": "stream",
     "text": [
      "'c' argument looks like a single numeric RGB or RGBA sequence, which should be avoided as value-mapping will have precedence in case its length matches with 'x' & 'y'.  Please use a 2-D array with a single row if you really want to specify the same RGB or RGBA value for all points.\n"
     ]
    },
    {
     "data": {
      "image/png": "[encoded data removed]",
      "text/plain": [
       "<Figure size 432x288 with 1 Axes>"
      ]
     },
     "metadata": {
      "tags": []
     },
     "output_type": "display_data"
    }
   ],
   "source": [
    "#scatter plot OverallQual/saleprice\n",
    "data = pd.concat([df_house_price[\"SalePrice\"], df_house_price[\"OverallQual\"]],axis=1)\n",
    "data.plot.scatter(x=\"OverallQual\", y=\"SalePrice\", ylim=(0,800000));"
   ]
  },
  {
   "cell_type": "markdown",
   "metadata": {
    "colab_type": "text",
    "id": "PV9HvD4pgQCl"
   },
   "source": [
    "From the above result, We can say that the price of the house will be when the overall quality of the house is high. We can notice that for the same quality different price. Why?.\n",
    "\"SalePrice\" is correlated with other variables and \"OverallQual\" might be correlated with other variables. "
   ]
  },
  {
   "cell_type": "markdown",
   "metadata": {
    "colab_type": "text",
    "id": "2oKshLQsjOML"
   },
   "source": [
    "### Year Built\n"
   ]
  },
  {
   "cell_type": "code",
   "execution_count": 11,
   "metadata": {
    "colab": {
     "base_uri": "https://localhost:8080/",
     "height": 320
    },
    "colab_type": "code",
    "id": "-dGRjKb9jhH3",
    "outputId": "116bce14-c960-41bd-f201-cb169b8847b6"
   },
   "outputs": [
    {
     "data": {
      "image/png": "[encoded data removed]",
      "text/plain": [
       "<Figure size 432x288 with 1 Axes>"
      ]
     },
     "metadata": {
      "needs_background": "light"
     },
     "output_type": "display_data"
    }
   ],
   "source": [
    "#scatter plot YearBuilt/saleprice\n",
    "data = pd.concat([df_house_price[\"SalePrice\"], df_house_price[\"YearBuilt\"]],axis=1)\n",
    "data.plot.scatter(x=\"YearBuilt\", y=\"SalePrice\", ylim=(0,800000));\n"
   ]
  },
  {
   "cell_type": "markdown",
   "metadata": {
    "colab_type": "text",
    "id": "THp0j5Oej8Q7"
   },
   "source": [
    "From the above plot, we can observe that the price of a house is comparatively more than the house was built recently. We also can notice that there are some outlier which means even if the house is too old, the price of the house is moderately high due to influences of other variables."
   ]
  },
  {
   "cell_type": "markdown",
   "metadata": {
    "colab_type": "text",
    "id": "eeqgs8poXkKZ"
   },
   "source": [
    "### Ground Living Area"
   ]
  },
  {
   "cell_type": "code",
   "execution_count": 12,
   "metadata": {
    "colab": {
     "base_uri": "https://localhost:8080/",
     "height": 320
    },
    "colab_type": "code",
    "id": "tE5Eil0g3Ui2",
    "outputId": "22f06cc2-a6f9-4328-a4ab-6e4d86315d4b"
   },
   "outputs": [
    {
     "data": {
      "image/png": "[encoded data removed]",
      "text/plain": [
       "<Figure size 432x288 with 1 Axes>"
      ]
     },
     "metadata": {
      "needs_background": "light"
     },
     "output_type": "display_data"
    }
   ],
   "source": [
    "#scatter plot grlivarea/saleprice\n",
    "data = pd.concat([df_house_price[\"SalePrice\"], df_house_price[\"GrLivArea\"]],axis=1)\n",
    "data.plot.scatter(x=\"GrLivArea\", y=\"SalePrice\", ylim=(0,800000));"
   ]
  },
  {
   "cell_type": "markdown",
   "metadata": {
    "colab_type": "text",
    "id": "taXapNGyD6mL"
   },
   "source": [
    "While the size of the ground living area is increasing, the price of the houses is increasing. But\n",
    "even if the ground living area is high, the price of the house is low and when the ground living area is high, the price of the house is too high. Why?. \n",
    "\n",
    "We know the influence of other variables affects the price change of house.\n",
    "\n",
    "When \"GrLivArea\" of a house is highly correlated with other variables, the price of the house is increasing and when \"GrLivArea\" of a house is not highly correlated with other variables, the price of the house is decreasing."
   ]
  },
  {
   "cell_type": "markdown",
   "metadata": {
    "colab_type": "text",
    "id": "YG-uBV0qD6mM"
   },
   "source": [
    "### TotalBsmtSF"
   ]
  },
  {
   "cell_type": "code",
   "execution_count": 13,
   "metadata": {
    "colab": {
     "base_uri": "https://localhost:8080/",
     "height": 320
    },
    "colab_type": "code",
    "id": "BLTS9ufBD6mN",
    "outputId": "29d9c99a-e738-40bf-8779-0d4e907c325c"
   },
   "outputs": [
    {
     "data": {
      "image/png": "[encoded data removed]",
      "text/plain": [
       "<Figure size 432x288 with 1 Axes>"
      ]
     },
     "metadata": {
      "needs_background": "light"
     },
     "output_type": "display_data"
    }
   ],
   "source": [
    "data = pd.concat([df_house_price[\"SalePrice\"],df_house_price[\"TotalBsmtSF\"]], axis=1)\n",
    "data.plot.scatter(x=\"TotalBsmtSF\", y=\"SalePrice\", ylim=(0,800000));"
   ]
  },
  {
   "cell_type": "markdown",
   "metadata": {
    "colab_type": "text",
    "id": "eB4cUe1bD6mR"
   },
   "source": [
    "We can notice that \"SalePrice\" and \"TotalBsmtSF\" is with a linear relationship. We can see the value of \"SalePrice\" is going straight when the value of \"TotalBsmtSF\" is 0. Total square feet of basement area of a house is high but the price of the house is low due to the influence of other variables."
   ]
  },
  {
   "cell_type": "markdown",
   "metadata": {
    "colab_type": "text",
    "id": "lMffE6WEuD3c"
   },
   "source": [
    "\n",
    "### Visualizing categorical variables with \"SalePrice\".\n"
   ]
  },
  {
   "cell_type": "markdown",
   "metadata": {
    "colab_type": "text",
    "id": "2xqWy2N-udup"
   },
   "source": [
    "### House Style"
   ]
  },
  {
   "cell_type": "code",
   "execution_count": 14,
   "metadata": {
    "colab": {
     "base_uri": "https://localhost:8080/",
     "height": 557
    },
    "colab_type": "code",
    "id": "-f8gHigftxMi",
    "outputId": "bb1d9131-40c8-46f6-c6b9-8a8303968315"
   },
   "outputs": [
    {
     "data": {
      "text/plain": [
       "<matplotlib.axes._subplots.AxesSubplot at 0xeb4da0bb88>"
      ]
     },
     "execution_count": 14,
     "metadata": {},
     "output_type": "execute_result"
    },
    {
     "data": {
      "image/png": "[encoded data removed]",
      "text/plain": [
       "<Figure size 576x576 with 1 Axes>"
      ]
     },
     "metadata": {
      "needs_background": "light"
     },
     "output_type": "display_data"
    }
   ],
   "source": [
    "df_house_price.boxplot(column=\"SalePrice\",        # Column to plot\n",
    "                 by= \"HouseStyle\",         # Column to split upon\n",
    "                 figsize= (8,8))"
   ]
  },
  {
   "cell_type": "markdown",
   "metadata": {
    "colab_type": "text",
    "id": "-ujBPUi2vKRZ"
   },
   "source": [
    "### Foundation"
   ]
  },
  {
   "cell_type": "code",
   "execution_count": 15,
   "metadata": {
    "colab": {
     "base_uri": "https://localhost:8080/",
     "height": 557
    },
    "colab_type": "code",
    "id": "rxatzUzru59f",
    "outputId": "d09db715-3cea-4c1f-af8b-d1ee2f52de9b"
   },
   "outputs": [
    {
     "data": {
      "text/plain": [
       "<matplotlib.axes._subplots.AxesSubplot at 0xeb54c8a488>"
      ]
     },
     "execution_count": 15,
     "metadata": {},
     "output_type": "execute_result"
    },
    {
     "data": {
      "image/png": "[encoded data removed]",
      "text/plain": [
       "<Figure size 576x576 with 1 Axes>"
      ]
     },
     "metadata": {
      "needs_background": "light"
     },
     "output_type": "display_data"
    }
   ],
   "source": [
    "df_house_price.boxplot(column=\"SalePrice\",        # Column to plot\n",
    "                 by= \"Foundation\",         # Column to split upon\n",
    "                 figsize= (8,8))"
   ]
  },
  {
   "cell_type": "markdown",
   "metadata": {
    "colab_type": "text",
    "id": "bVNMN1dA4H0o"
   },
   "source": [
    "From the above plot, we can observe that if a house has \"Poured Concrete\" foundation, the price of the house is higher than other house prices."
   ]
  },
  {
   "cell_type": "markdown",
   "metadata": {
    "colab_type": "text",
    "id": "6PLzFF_W5JZA"
   },
   "source": [
    "### Garage Quality"
   ]
  },
  {
   "cell_type": "code",
   "execution_count": 16,
   "metadata": {
    "colab": {
     "base_uri": "https://localhost:8080/",
     "height": 557
    },
    "colab_type": "code",
    "id": "1rZ0QKUtt9Z9",
    "outputId": "39692ed9-4855-42ff-deb8-4b05aa2cf776"
   },
   "outputs": [
    {
     "data": {
      "text/plain": [
       "<matplotlib.axes._subplots.AxesSubplot at 0x7f567c765978>"
      ]
     },
     "execution_count": 16,
     "metadata": {
      "tags": []
     },
     "output_type": "execute_result"
    },
    {
     "data": {
      "image/png": "[encoded data removed]",
      "text/plain": [
       "<Figure size 576x576 with 1 Axes>"
      ]
     },
     "metadata": {
      "tags": []
     },
     "output_type": "display_data"
    }
   ],
   "source": [
    "\n",
    "df_house_price.boxplot(column=\"SalePrice\",        # Column to plot\n",
    "                 by= \"GarageQual\",         # Column to split upon\n",
    "                 figsize= (8,8))"
   ]
  },
  {
   "cell_type": "markdown",
   "metadata": {
    "colab_type": "text",
    "id": "83a_3_Em22g-"
   },
   "source": [
    "From the above plot, we can observe that if a house has a good garage, the price of the house is higher than other house prices. Some houses have an excellent garage. So the price of this kind of house is higher than all."
   ]
  },
  {
   "cell_type": "markdown",
   "metadata": {
    "colab_type": "text",
    "id": "KwKXQ7OEk1FF"
   },
   "source": [
    "So far, we have compared some variables with the target variable. We observed that what is the variables impact on target variable based EDA. If we want to reduce dimension, we can take only impact variables. This is one kind of way. Now we will use PCA to reduce the dimension of this dataset."
   ]
  },
  {
   "cell_type": "markdown",
   "metadata": {
    "colab_type": "text",
    "id": "hlp-Nn4_miIY"
   },
   "source": [
    "### Before apply PCA we have to handle missing value."
   ]
  },
  {
   "cell_type": "code",
   "execution_count": 16,
   "metadata": {
    "colab": {
     "base_uri": "https://localhost:8080/",
     "height": 669
    },
    "colab_type": "code",
    "id": "Gh6NsedkvvKt",
    "outputId": "eb96d1b6-9edf-4590-8917-644dcd572165"
   },
   "outputs": [
    {
     "data": {
      "text/html": [
       "<div>\n",
       "<style scoped>\n",
       "    .dataframe tbody tr th:only-of-type {\n",
       "        vertical-align: middle;\n",
       "    }\n",
       "\n",
       "    .dataframe tbody tr th {\n",
       "        vertical-align: top;\n",
       "    }\n",
       "\n",
       "    .dataframe thead th {\n",
       "        text-align: right;\n",
       "    }\n",
       "</style>\n",
       "<table border=\"1\" class=\"dataframe\">\n",
       "  <thead>\n",
       "    <tr style=\"text-align: right;\">\n",
       "      <th></th>\n",
       "      <th>Total</th>\n",
       "      <th>Percent</th>\n",
       "    </tr>\n",
       "  </thead>\n",
       "  <tbody>\n",
       "    <tr>\n",
       "      <td>PoolQC</td>\n",
       "      <td>1453</td>\n",
       "      <td>0.995205</td>\n",
       "    </tr>\n",
       "    <tr>\n",
       "      <td>MiscFeature</td>\n",
       "      <td>1406</td>\n",
       "      <td>0.963014</td>\n",
       "    </tr>\n",
       "    <tr>\n",
       "      <td>Alley</td>\n",
       "      <td>1369</td>\n",
       "      <td>0.937671</td>\n",
       "    </tr>\n",
       "    <tr>\n",
       "      <td>Fence</td>\n",
       "      <td>1179</td>\n",
       "      <td>0.807534</td>\n",
       "    </tr>\n",
       "    <tr>\n",
       "      <td>FireplaceQu</td>\n",
       "      <td>690</td>\n",
       "      <td>0.472603</td>\n",
       "    </tr>\n",
       "    <tr>\n",
       "      <td>LotFrontage</td>\n",
       "      <td>259</td>\n",
       "      <td>0.177397</td>\n",
       "    </tr>\n",
       "    <tr>\n",
       "      <td>GarageType</td>\n",
       "      <td>81</td>\n",
       "      <td>0.055479</td>\n",
       "    </tr>\n",
       "    <tr>\n",
       "      <td>GarageCond</td>\n",
       "      <td>81</td>\n",
       "      <td>0.055479</td>\n",
       "    </tr>\n",
       "    <tr>\n",
       "      <td>GarageFinish</td>\n",
       "      <td>81</td>\n",
       "      <td>0.055479</td>\n",
       "    </tr>\n",
       "    <tr>\n",
       "      <td>GarageQual</td>\n",
       "      <td>81</td>\n",
       "      <td>0.055479</td>\n",
       "    </tr>\n",
       "    <tr>\n",
       "      <td>GarageYrBlt</td>\n",
       "      <td>81</td>\n",
       "      <td>0.055479</td>\n",
       "    </tr>\n",
       "    <tr>\n",
       "      <td>BsmtFinType2</td>\n",
       "      <td>38</td>\n",
       "      <td>0.026027</td>\n",
       "    </tr>\n",
       "    <tr>\n",
       "      <td>BsmtExposure</td>\n",
       "      <td>38</td>\n",
       "      <td>0.026027</td>\n",
       "    </tr>\n",
       "    <tr>\n",
       "      <td>BsmtQual</td>\n",
       "      <td>37</td>\n",
       "      <td>0.025342</td>\n",
       "    </tr>\n",
       "    <tr>\n",
       "      <td>BsmtCond</td>\n",
       "      <td>37</td>\n",
       "      <td>0.025342</td>\n",
       "    </tr>\n",
       "    <tr>\n",
       "      <td>BsmtFinType1</td>\n",
       "      <td>37</td>\n",
       "      <td>0.025342</td>\n",
       "    </tr>\n",
       "    <tr>\n",
       "      <td>MasVnrArea</td>\n",
       "      <td>8</td>\n",
       "      <td>0.005479</td>\n",
       "    </tr>\n",
       "    <tr>\n",
       "      <td>MasVnrType</td>\n",
       "      <td>8</td>\n",
       "      <td>0.005479</td>\n",
       "    </tr>\n",
       "    <tr>\n",
       "      <td>Electrical</td>\n",
       "      <td>1</td>\n",
       "      <td>0.000685</td>\n",
       "    </tr>\n",
       "    <tr>\n",
       "      <td>RoofMatl</td>\n",
       "      <td>0</td>\n",
       "      <td>0.000000</td>\n",
       "    </tr>\n",
       "  </tbody>\n",
       "</table>\n",
       "</div>"
      ],
      "text/plain": [
       "              Total   Percent\n",
       "PoolQC         1453  0.995205\n",
       "MiscFeature    1406  0.963014\n",
       "Alley          1369  0.937671\n",
       "Fence          1179  0.807534\n",
       "FireplaceQu     690  0.472603\n",
       "LotFrontage     259  0.177397\n",
       "GarageType       81  0.055479\n",
       "GarageCond       81  0.055479\n",
       "GarageFinish     81  0.055479\n",
       "GarageQual       81  0.055479\n",
       "GarageYrBlt      81  0.055479\n",
       "BsmtFinType2     38  0.026027\n",
       "BsmtExposure     38  0.026027\n",
       "BsmtQual         37  0.025342\n",
       "BsmtCond         37  0.025342\n",
       "BsmtFinType1     37  0.025342\n",
       "MasVnrArea        8  0.005479\n",
       "MasVnrType        8  0.005479\n",
       "Electrical        1  0.000685\n",
       "RoofMatl          0  0.000000"
      ]
     },
     "execution_count": 16,
     "metadata": {},
     "output_type": "execute_result"
    }
   ],
   "source": [
    "#missing data\n",
    "total_missing_value = df_house_price.isnull().sum().sort_values(ascending=False)\n",
    "percent_of_missign_value = (df_house_price.isnull().sum()/df_house_price.isnull().count()).sort_values(ascending=False)\n",
    "missing_data = pd.concat([total_missing_value, percent_of_missign_value], axis=1, keys=['Total', 'Percent'])\n",
    "missing_data.head(20)"
   ]
  },
  {
   "cell_type": "markdown",
   "metadata": {
    "colab_type": "text",
    "id": "WNtruSfhD6mV"
   },
   "source": [
    "From above plot, We can see that which variable is correlated with \"SalePrice\"."
   ]
  },
  {
   "cell_type": "markdown",
   "metadata": {
    "colab_type": "text",
    "id": "FjcLpwhsD6mV"
   },
   "source": [
    "### Imputing missing values"
   ]
  },
  {
   "cell_type": "markdown",
   "metadata": {
    "colab_type": "text",
    "id": "xR12tO7UD6mW"
   },
   "source": [
    "PooQC: Data description says NA means \"No Pool\". In this data set, it has huge ratio of missing value(99%) and majority of houses have no Pool at all in general."
   ]
  },
  {
   "cell_type": "code",
   "execution_count": 17,
   "metadata": {
    "colab": {},
    "colab_type": "code",
    "id": "1xFOtvykD6mX"
   },
   "outputs": [],
   "source": [
    "df_house_price[\"PoolQC\"] = df_house_price[\"PoolQC\"].fillna(\"None\")"
   ]
  },
  {
   "cell_type": "markdown",
   "metadata": {
    "colab_type": "text",
    "id": "tL13Zl4KD6mc"
   },
   "source": [
    "### MiscFeature"
   ]
  },
  {
   "cell_type": "markdown",
   "metadata": {
    "colab_type": "text",
    "id": "q0KRaVQwD6mf"
   },
   "source": [
    "Data description says NA means \"no misc feature\""
   ]
  },
  {
   "cell_type": "code",
   "execution_count": 19,
   "metadata": {
    "colab": {},
    "colab_type": "code",
    "id": "ghzCdIG_D6mg"
   },
   "outputs": [],
   "source": [
    "df_house_price[\"MiscFeature\"] = df_house_price[\"MiscFeature\"].fillna(\"None\")"
   ]
  },
  {
   "cell_type": "markdown",
   "metadata": {
    "colab_type": "text",
    "id": "fDi5GC2LD6mi"
   },
   "source": [
    "### Alley"
   ]
  },
  {
   "cell_type": "markdown",
   "metadata": {
    "colab_type": "text",
    "id": "7xZCSk8MD6mj"
   },
   "source": [
    "Data description says NA means \"no alley access\""
   ]
  },
  {
   "cell_type": "code",
   "execution_count": 20,
   "metadata": {
    "colab": {},
    "colab_type": "code",
    "id": "QgR9UDXhD6mk"
   },
   "outputs": [],
   "source": [
    "df_house_price[\"Alley\"] = df_house_price[\"Alley\"].fillna(\"None\")"
   ]
  },
  {
   "cell_type": "markdown",
   "metadata": {
    "colab_type": "text",
    "id": "GPpr6qW7D6mm"
   },
   "source": [
    "### Fence"
   ]
  },
  {
   "cell_type": "markdown",
   "metadata": {
    "colab_type": "text",
    "id": "t_aGH4p0D6mn"
   },
   "source": [
    "This column has NA value means \"no fence\""
   ]
  },
  {
   "cell_type": "code",
   "execution_count": 23,
   "metadata": {
    "colab": {},
    "colab_type": "code",
    "id": "g8knsm4nD6mo"
   },
   "outputs": [],
   "source": [
    "df_house_price[\"Fence\"] = df_house_price[\"Fence\"].fillna(\"None\")"
   ]
  },
  {
   "cell_type": "markdown",
   "metadata": {
    "colab_type": "text",
    "id": "XkMwYsylD6mp"
   },
   "source": [
    "### FireplaceQu"
   ]
  },
  {
   "cell_type": "markdown",
   "metadata": {
    "colab_type": "text",
    "id": "SzFvl_YCD6mq"
   },
   "source": [
    "This column has NA means \"no fireplace\""
   ]
  },
  {
   "cell_type": "code",
   "execution_count": 24,
   "metadata": {
    "colab": {},
    "colab_type": "code",
    "id": "x530ItPTD6mr"
   },
   "outputs": [],
   "source": [
    "df_house_price[\"FireplaceQu\"] = df_house_price[\"FireplaceQu\"].fillna(\"None\")"
   ]
  },
  {
   "cell_type": "markdown",
   "metadata": {
    "colab_type": "text",
    "id": "yZydsP79D6mt"
   },
   "source": [
    "### LotFrontage"
   ]
  },
  {
   "cell_type": "markdown",
   "metadata": {
    "colab_type": "text",
    "id": "4Yufc9FAD6mt"
   },
   "source": [
    "The area of each street connected to the house property most likely have a similar area to other houses in its neighborhood. So we can fill in missing values by the median LotFrontage of the neighborhood."
   ]
  },
  {
   "cell_type": "code",
   "execution_count": 25,
   "metadata": {
    "colab": {},
    "colab_type": "code",
    "id": "ObWo4cWND6mu"
   },
   "outputs": [],
   "source": [
    "df_house_price[\"LotFrontage\"] = df_house_price.groupby(\"Neighborhood\")[\"LotFrontage\"].transform(lambda x: x.fillna(x.median()))"
   ]
  },
  {
   "cell_type": "markdown",
   "metadata": {
    "colab_type": "text",
    "id": "q-8lMAVXD6mw"
   },
   "source": [
    "### GarageType, GarageFinish, GarageQual and GarageCond : Replacing missing data with None\n"
   ]
  },
  {
   "cell_type": "code",
   "execution_count": 26,
   "metadata": {
    "colab": {},
    "colab_type": "code",
    "id": "edAadbHyD6mx"
   },
   "outputs": [],
   "source": [
    "for i in ('GarageType', 'GarageFinish', 'GarageQual', 'GarageCond'):\n",
    "    df_house_price[i] = df_house_price[i].fillna('None')"
   ]
  },
  {
   "cell_type": "markdown",
   "metadata": {
    "colab_type": "text",
    "id": "Q60KY8A5D6mz"
   },
   "source": [
    "### GarageYrBlt, GarageArea and GarageCars : Replacing missing data with 0 (Since No garage = no cars in such garage.)\n"
   ]
  },
  {
   "cell_type": "code",
   "execution_count": 27,
   "metadata": {
    "colab": {},
    "colab_type": "code",
    "id": "dJCTgrtyD6m0"
   },
   "outputs": [],
   "source": [
    "for i in ('GarageYrBlt', 'GarageArea', 'GarageCars'):\n",
    "    df_house_price[i] = df_house_price[i].fillna(0)"
   ]
  },
  {
   "cell_type": "markdown",
   "metadata": {
    "colab_type": "text",
    "id": "JsPHHnM8D6m3"
   },
   "source": [
    "BsmtFinSF1, BsmtFinSF2, BsmtUnfSF, TotalBsmtSF, BsmtFullBath and BsmtHalfBath : missing values are likely zero for having no basement"
   ]
  },
  {
   "cell_type": "markdown",
   "metadata": {
    "colab_type": "text",
    "id": "MnNuaO6UD6m4"
   },
   "source": [
    "for i in ('BsmtFinSF1', 'BsmtFinSF2', 'BsmtUnfSF','TotalBsmtSF', 'BsmtFullBath', 'BsmtHalfBath'):\n",
    "    df_house_price[i] = df_house_price[i].fillna(0)"
   ]
  },
  {
   "cell_type": "markdown",
   "metadata": {
    "colab_type": "text",
    "id": "mMn3w-VED6m5"
   },
   "source": [
    "BsmtQual, BsmtCond, BsmtExposure, BsmtFinType1 and BsmtFinType2 : For all these categorical basement-related features, NaN means that there is no basement."
   ]
  },
  {
   "cell_type": "code",
   "execution_count": 28,
   "metadata": {
    "colab": {},
    "colab_type": "code",
    "id": "CoxsQegwD6m6"
   },
   "outputs": [],
   "source": [
    "for i in ('BsmtQual', 'BsmtCond', 'BsmtExposure', 'BsmtFinType1', 'BsmtFinType2'):\n",
    "    df_house_price[i] = df_house_price[i].fillna('None')"
   ]
  },
  {
   "cell_type": "markdown",
   "metadata": {
    "colab_type": "text",
    "id": "ggIpjIz5D6m8"
   },
   "source": [
    "MasVnrArea and MasVnrType : NA most likely means no masonry veneer for these houses. We can fill 0 for the area and None for the type."
   ]
  },
  {
   "cell_type": "code",
   "execution_count": 29,
   "metadata": {
    "colab": {},
    "colab_type": "code",
    "id": "fNk4BmecD6m8"
   },
   "outputs": [],
   "source": [
    "df_house_price[\"MasVnrType\"] = df_house_price[\"MasVnrType\"].fillna(\"None\")\n",
    "df_house_price[\"MasVnrArea\"] = df_house_price[\"MasVnrArea\"].fillna(0)"
   ]
  },
  {
   "cell_type": "markdown",
   "metadata": {
    "colab_type": "text",
    "id": "fk2AAqjfD6m_"
   },
   "source": [
    "MSZoning (The general zoning classification) : 'RL' is by far the most common value. So we can fill in missing values with 'RL'"
   ]
  },
  {
   "cell_type": "code",
   "execution_count": 30,
   "metadata": {
    "colab": {},
    "colab_type": "code",
    "id": "zpRDsS9HD6nA"
   },
   "outputs": [],
   "source": [
    "df_house_price['MSZoning'] = df_house_price['MSZoning'].fillna(df_house_price['MSZoning'].mode()[0])\n"
   ]
  },
  {
   "cell_type": "markdown",
   "metadata": {
    "colab_type": "text",
    "id": "ZpFCudOeD6nE"
   },
   "source": [
    "Utilities : For this categorical feature all records are \"AllPub\", except for one \"NoSeWa\" and 2 NA . Since the house with 'NoSewa' is in the training set, this feature won't help in predictive modelling. We can then safely remove it.\n"
   ]
  },
  {
   "cell_type": "code",
   "execution_count": 31,
   "metadata": {
    "colab": {},
    "colab_type": "code",
    "id": "yXwKgeu7D6nE"
   },
   "outputs": [],
   "source": [
    "df_house_price = df_house_price.drop(['Utilities'], axis=1)\n"
   ]
  },
  {
   "cell_type": "markdown",
   "metadata": {
    "colab_type": "text",
    "id": "KbiWTzSzD6nH"
   },
   "source": [
    "Functional : data description says NA means typical"
   ]
  },
  {
   "cell_type": "code",
   "execution_count": 32,
   "metadata": {
    "colab": {},
    "colab_type": "code",
    "id": "6t-blmESD6nH"
   },
   "outputs": [],
   "source": [
    "df_house_price[\"Functional\"] = df_house_price[\"Functional\"].fillna(\"Typ\")"
   ]
  },
  {
   "cell_type": "markdown",
   "metadata": {
    "colab_type": "text",
    "id": "WNkuuOLZD6nJ"
   },
   "source": [
    "Electrical : It has one NA value. Since this feature has mostly 'SBrkr', we can set that for the missing value"
   ]
  },
  {
   "cell_type": "code",
   "execution_count": 33,
   "metadata": {
    "colab": {},
    "colab_type": "code",
    "id": "QW8-GRFBD6nJ"
   },
   "outputs": [],
   "source": [
    "df_house_price['Electrical'] = df_house_price['Electrical'].fillna(df_house_price['Electrical'].mode()[0])"
   ]
  },
  {
   "cell_type": "markdown",
   "metadata": {
    "colab_type": "text",
    "id": "w9q0i8dLD6nL"
   },
   "source": [
    "KitchenQual: Only one NA value, and same as Electrical, we set 'TA' (which is the most frequent) for the missing value in KitchenQual."
   ]
  },
  {
   "cell_type": "code",
   "execution_count": 34,
   "metadata": {
    "colab": {},
    "colab_type": "code",
    "id": "BdglCVUdD6nL"
   },
   "outputs": [],
   "source": [
    "df_house_price['KitchenQual'] = df_house_price['KitchenQual'].fillna(df_house_price['KitchenQual'].mode()[0])"
   ]
  },
  {
   "cell_type": "markdown",
   "metadata": {
    "colab_type": "text",
    "id": "vvKikWOBD6nN"
   },
   "source": [
    "Exterior1st and Exterior2nd : Again Both Exterior 1 & 2 have only one missing value. We will just substitute in the most common string"
   ]
  },
  {
   "cell_type": "code",
   "execution_count": 36,
   "metadata": {
    "colab": {},
    "colab_type": "code",
    "id": "A4kwXZYED6nN"
   },
   "outputs": [],
   "source": [
    "df_house_price['Exterior1st'] = df_house_price['Exterior1st'].fillna(df_house_price['Exterior1st'].mode()[0])\n",
    "df_house_price['Exterior2nd'] = df_house_price['Exterior2nd'].fillna(df_house_price['Exterior2nd'].mode()[0])"
   ]
  },
  {
   "cell_type": "markdown",
   "metadata": {
    "colab_type": "text",
    "id": "-7hnKaroD6nQ"
   },
   "source": [
    "SaleType : Fill in again with most frequent which is \"WD\""
   ]
  },
  {
   "cell_type": "code",
   "execution_count": 37,
   "metadata": {
    "colab": {},
    "colab_type": "code",
    "id": "1IKVlhLID6nT"
   },
   "outputs": [],
   "source": [
    "df_house_price['SaleType'] = df_house_price['SaleType'].fillna(df_house_price['SaleType'].mode()[0])"
   ]
  },
  {
   "cell_type": "markdown",
   "metadata": {
    "colab_type": "text",
    "id": "OnWLDlJmD6nV"
   },
   "source": [
    "MSSubClass : Na most likely means No building class. We can replace missing values with None"
   ]
  },
  {
   "cell_type": "code",
   "execution_count": 38,
   "metadata": {
    "colab": {},
    "colab_type": "code",
    "id": "2EZaFeaqD6nV"
   },
   "outputs": [],
   "source": [
    "df_house_price['MSSubClass'] = df_house_price['MSSubClass'].fillna(\"None\")"
   ]
  },
  {
   "cell_type": "code",
   "execution_count": 39,
   "metadata": {
    "colab": {},
    "colab_type": "code",
    "id": "DwiZ523mD6nX"
   },
   "outputs": [],
   "source": [
    "categorical_var = df_house_price.dtypes[df_house_price.dtypes == \"object\"]"
   ]
  },
  {
   "cell_type": "markdown",
   "metadata": {
    "colab_type": "text",
    "id": "n6f4PFG5D6nd"
   },
   "source": [
    "Transforming some numerical variables that are really categorical"
   ]
  },
  {
   "cell_type": "code",
   "execution_count": 40,
   "metadata": {
    "colab": {
     "base_uri": "https://localhost:8080/",
     "height": 34
    },
    "colab_type": "code",
    "id": "yDeZO4ZBD6nd",
    "outputId": "2fdda9d0-68fd-45f4-cf8c-c512d70e1207"
   },
   "outputs": [
    {
     "data": {
      "text/plain": [
       "dtype('int64')"
      ]
     },
     "execution_count": 40,
     "metadata": {},
     "output_type": "execute_result"
    }
   ],
   "source": [
    "df_house_price['OverallCond'].dtype"
   ]
  },
  {
   "cell_type": "markdown",
   "metadata": {
    "colab_type": "text",
    "id": "cl4QZspAD6ng"
   },
   "source": [
    "If we take the variable \"OverallCond\" which represents rates the overall condition of the house. So value of this column is from 1 to 10.\n",
    "\n",
    "       10\tVery Excellent\n",
    "       9\tExcellent\n",
    "       8\tVery Good\n",
    "       7\tGood\n",
    "       6\tAbove Average\t\n",
    "       5\tAverage\n",
    "       4\tBelow Average\t\n",
    "       3\tFair\n",
    "       2\tPoor\n",
    "       1\tVery Poor\n",
    "       \n",
    "The datatype of this column is in \"int64\", but it should be in categorical. \n",
    "\n",
    "So we handle like this column."
   ]
  },
  {
   "cell_type": "code",
   "execution_count": 42,
   "metadata": {
    "colab": {},
    "colab_type": "code",
    "id": "SAcPV-MtD6nh"
   },
   "outputs": [],
   "source": [
    "#Changing OverallCond into a categorical variable\n",
    "df_house_price['OverallCond'] = df_house_price['OverallCond'].astype(str)"
   ]
  },
  {
   "cell_type": "code",
   "execution_count": 43,
   "metadata": {
    "colab": {},
    "colab_type": "code",
    "id": "gx0jpIl9D6nk"
   },
   "outputs": [],
   "source": [
    "#MSSubClass=The building class\n",
    "df_house_price['MSSubClass'] = df_house_price['MSSubClass'].apply(str)"
   ]
  },
  {
   "cell_type": "code",
   "execution_count": 44,
   "metadata": {
    "colab": {},
    "colab_type": "code",
    "id": "ySKTKaB6D6nn"
   },
   "outputs": [],
   "source": [
    "#Year and month sold are transformed into categorical features.\n",
    "df_house_price['YrSold'] = df_house_price['YrSold'].astype(str)\n",
    "df_house_price['MoSold'] = df_house_price['MoSold'].astype(str)"
   ]
  },
  {
   "cell_type": "markdown",
   "metadata": {
    "colab_type": "text",
    "id": "kQVwS7LvD6np"
   },
   "source": [
    "Label Encoding some categorical variables that may contain information in their ordering set"
   ]
  },
  {
   "cell_type": "code",
   "execution_count": 45,
   "metadata": {
    "colab": {},
    "colab_type": "code",
    "id": "II7Brj2bD6nq"
   },
   "outputs": [],
   "source": [
    "from sklearn.preprocessing import LabelEncoder\n",
    "cols = ('FireplaceQu', 'BsmtQual', 'BsmtCond', 'GarageQual', 'GarageCond', \n",
    "        'ExterQual', 'ExterCond','HeatingQC', 'PoolQC', 'KitchenQual', 'BsmtFinType1', \n",
    "        'BsmtFinType2', 'Functional', 'Fence', 'BsmtExposure', 'GarageFinish', 'LandSlope',\n",
    "        'LotShape', 'PavedDrive', 'Street', 'Alley', 'CentralAir', 'MSSubClass', 'OverallCond', \n",
    "        'YrSold', 'MoSold')"
   ]
  },
  {
   "cell_type": "code",
   "execution_count": 46,
   "metadata": {
    "colab": {},
    "colab_type": "code",
    "id": "G-fOwLZJD6ns"
   },
   "outputs": [],
   "source": [
    "# process columns, apply LabelEncoder to categorical features\n",
    "for c in cols:\n",
    "    label_ec = LabelEncoder() \n",
    "    label_ec.fit(list(df_house_price[c].values)) \n",
    "    df_house_price[c] = label_ec.transform(list(df_house_price[c].values))\n"
   ]
  },
  {
   "cell_type": "code",
   "execution_count": 47,
   "metadata": {
    "colab": {
     "base_uri": "https://localhost:8080/",
     "height": 34
    },
    "colab_type": "code",
    "id": "ChnjRhCWD6nx",
    "outputId": "8d83cf0d-ce71-4c2f-bf51-f4a205f14822"
   },
   "outputs": [
    {
     "name": "stdout",
     "output_type": "stream",
     "text": [
      "(1460, 221)\n"
     ]
    }
   ],
   "source": [
    "df_house_price = pd.get_dummies(df_house_price)\n",
    "print(df_house_price.shape)"
   ]
  },
  {
   "cell_type": "code",
   "execution_count": 48,
   "metadata": {
    "colab": {
     "base_uri": "https://localhost:8080/",
     "height": 253
    },
    "colab_type": "code",
    "id": "bx0Db1KQD6n1",
    "outputId": "1c77616b-9909-4d03-b8b6-0b78fec8b3fe"
   },
   "outputs": [
    {
     "data": {
      "text/html": [
       "<div>\n",
       "<style scoped>\n",
       "    .dataframe tbody tr th:only-of-type {\n",
       "        vertical-align: middle;\n",
       "    }\n",
       "\n",
       "    .dataframe tbody tr th {\n",
       "        vertical-align: top;\n",
       "    }\n",
       "\n",
       "    .dataframe thead th {\n",
       "        text-align: right;\n",
       "    }\n",
       "</style>\n",
       "<table border=\"1\" class=\"dataframe\">\n",
       "  <thead>\n",
       "    <tr style=\"text-align: right;\">\n",
       "      <th></th>\n",
       "      <th>MSSubClass</th>\n",
       "      <th>LotFrontage</th>\n",
       "      <th>LotArea</th>\n",
       "      <th>Street</th>\n",
       "      <th>Alley</th>\n",
       "      <th>LotShape</th>\n",
       "      <th>LandSlope</th>\n",
       "      <th>OverallQual</th>\n",
       "      <th>OverallCond</th>\n",
       "      <th>YearBuilt</th>\n",
       "      <th>...</th>\n",
       "      <th>SaleType_ConLw</th>\n",
       "      <th>SaleType_New</th>\n",
       "      <th>SaleType_Oth</th>\n",
       "      <th>SaleType_WD</th>\n",
       "      <th>SaleCondition_Abnorml</th>\n",
       "      <th>SaleCondition_AdjLand</th>\n",
       "      <th>SaleCondition_Alloca</th>\n",
       "      <th>SaleCondition_Family</th>\n",
       "      <th>SaleCondition_Normal</th>\n",
       "      <th>SaleCondition_Partial</th>\n",
       "    </tr>\n",
       "  </thead>\n",
       "  <tbody>\n",
       "    <tr>\n",
       "      <td>0</td>\n",
       "      <td>9</td>\n",
       "      <td>65.0</td>\n",
       "      <td>8450</td>\n",
       "      <td>1</td>\n",
       "      <td>1</td>\n",
       "      <td>3</td>\n",
       "      <td>0</td>\n",
       "      <td>7</td>\n",
       "      <td>4</td>\n",
       "      <td>2003</td>\n",
       "      <td>...</td>\n",
       "      <td>0</td>\n",
       "      <td>0</td>\n",
       "      <td>0</td>\n",
       "      <td>1</td>\n",
       "      <td>0</td>\n",
       "      <td>0</td>\n",
       "      <td>0</td>\n",
       "      <td>0</td>\n",
       "      <td>1</td>\n",
       "      <td>0</td>\n",
       "    </tr>\n",
       "    <tr>\n",
       "      <td>1</td>\n",
       "      <td>4</td>\n",
       "      <td>80.0</td>\n",
       "      <td>9600</td>\n",
       "      <td>1</td>\n",
       "      <td>1</td>\n",
       "      <td>3</td>\n",
       "      <td>0</td>\n",
       "      <td>6</td>\n",
       "      <td>7</td>\n",
       "      <td>1976</td>\n",
       "      <td>...</td>\n",
       "      <td>0</td>\n",
       "      <td>0</td>\n",
       "      <td>0</td>\n",
       "      <td>1</td>\n",
       "      <td>0</td>\n",
       "      <td>0</td>\n",
       "      <td>0</td>\n",
       "      <td>0</td>\n",
       "      <td>1</td>\n",
       "      <td>0</td>\n",
       "    </tr>\n",
       "    <tr>\n",
       "      <td>2</td>\n",
       "      <td>9</td>\n",
       "      <td>68.0</td>\n",
       "      <td>11250</td>\n",
       "      <td>1</td>\n",
       "      <td>1</td>\n",
       "      <td>0</td>\n",
       "      <td>0</td>\n",
       "      <td>7</td>\n",
       "      <td>4</td>\n",
       "      <td>2001</td>\n",
       "      <td>...</td>\n",
       "      <td>0</td>\n",
       "      <td>0</td>\n",
       "      <td>0</td>\n",
       "      <td>1</td>\n",
       "      <td>0</td>\n",
       "      <td>0</td>\n",
       "      <td>0</td>\n",
       "      <td>0</td>\n",
       "      <td>1</td>\n",
       "      <td>0</td>\n",
       "    </tr>\n",
       "    <tr>\n",
       "      <td>3</td>\n",
       "      <td>10</td>\n",
       "      <td>60.0</td>\n",
       "      <td>9550</td>\n",
       "      <td>1</td>\n",
       "      <td>1</td>\n",
       "      <td>0</td>\n",
       "      <td>0</td>\n",
       "      <td>7</td>\n",
       "      <td>4</td>\n",
       "      <td>1915</td>\n",
       "      <td>...</td>\n",
       "      <td>0</td>\n",
       "      <td>0</td>\n",
       "      <td>0</td>\n",
       "      <td>1</td>\n",
       "      <td>1</td>\n",
       "      <td>0</td>\n",
       "      <td>0</td>\n",
       "      <td>0</td>\n",
       "      <td>0</td>\n",
       "      <td>0</td>\n",
       "    </tr>\n",
       "    <tr>\n",
       "      <td>4</td>\n",
       "      <td>9</td>\n",
       "      <td>84.0</td>\n",
       "      <td>14260</td>\n",
       "      <td>1</td>\n",
       "      <td>1</td>\n",
       "      <td>0</td>\n",
       "      <td>0</td>\n",
       "      <td>8</td>\n",
       "      <td>4</td>\n",
       "      <td>2000</td>\n",
       "      <td>...</td>\n",
       "      <td>0</td>\n",
       "      <td>0</td>\n",
       "      <td>0</td>\n",
       "      <td>1</td>\n",
       "      <td>0</td>\n",
       "      <td>0</td>\n",
       "      <td>0</td>\n",
       "      <td>0</td>\n",
       "      <td>1</td>\n",
       "      <td>0</td>\n",
       "    </tr>\n",
       "  </tbody>\n",
       "</table>\n",
       "<p>5 rows × 221 columns</p>\n",
       "</div>"
      ],
      "text/plain": [
       "   MSSubClass  LotFrontage  LotArea  Street  Alley  LotShape  LandSlope  \\\n",
       "0           9         65.0     8450       1      1         3          0   \n",
       "1           4         80.0     9600       1      1         3          0   \n",
       "2           9         68.0    11250       1      1         0          0   \n",
       "3          10         60.0     9550       1      1         0          0   \n",
       "4           9         84.0    14260       1      1         0          0   \n",
       "\n",
       "   OverallQual  OverallCond  YearBuilt  ...  SaleType_ConLw  SaleType_New  \\\n",
       "0            7            4       2003  ...               0             0   \n",
       "1            6            7       1976  ...               0             0   \n",
       "2            7            4       2001  ...               0             0   \n",
       "3            7            4       1915  ...               0             0   \n",
       "4            8            4       2000  ...               0             0   \n",
       "\n",
       "   SaleType_Oth  SaleType_WD  SaleCondition_Abnorml  SaleCondition_AdjLand  \\\n",
       "0             0            1                      0                      0   \n",
       "1             0            1                      0                      0   \n",
       "2             0            1                      0                      0   \n",
       "3             0            1                      1                      0   \n",
       "4             0            1                      0                      0   \n",
       "\n",
       "   SaleCondition_Alloca  SaleCondition_Family  SaleCondition_Normal  \\\n",
       "0                     0                     0                     1   \n",
       "1                     0                     0                     1   \n",
       "2                     0                     0                     1   \n",
       "3                     0                     0                     0   \n",
       "4                     0                     0                     1   \n",
       "\n",
       "   SaleCondition_Partial  \n",
       "0                      0  \n",
       "1                      0  \n",
       "2                      0  \n",
       "3                      0  \n",
       "4                      0  \n",
       "\n",
       "[5 rows x 221 columns]"
      ]
     },
     "execution_count": 48,
     "metadata": {},
     "output_type": "execute_result"
    }
   ],
   "source": [
    "df_house_price.head()"
   ]
  },
  {
   "cell_type": "markdown",
   "metadata": {
    "colab_type": "text",
    "id": "lRU_SBQm5oOi"
   },
   "source": [
    "Remove target variable"
   ]
  },
  {
   "cell_type": "code",
   "execution_count": 49,
   "metadata": {
    "colab": {},
    "colab_type": "code",
    "id": "vFi6JgEvD6n4"
   },
   "outputs": [],
   "source": [
    "X = df_house_price.drop('SalePrice',axis=1)  "
   ]
  },
  {
   "cell_type": "markdown",
   "metadata": {
    "colab_type": "text",
    "id": "qhMrJyYE58-S"
   },
   "source": [
    "\n",
    "### Standardizing input variables"
   ]
  },
  {
   "cell_type": "code",
   "execution_count": 50,
   "metadata": {
    "colab": {},
    "colab_type": "code",
    "id": "ZlMHoAqfD6n7"
   },
   "outputs": [],
   "source": [
    "from sklearn.preprocessing import StandardScaler  \n",
    "import numpy as np\n",
    "\n",
    "# standardized the dataset\n",
    "sc_x = StandardScaler()    \n",
    "X_std = sc_x.fit_transform(X)"
   ]
  },
  {
   "cell_type": "markdown",
   "metadata": {
    "colab_type": "text",
    "id": "WweB4gWnaLgl"
   },
   "source": [
    "#PCA from scratch using python"
   ]
  },
  {
   "cell_type": "markdown",
   "metadata": {
    "colab_type": "text",
    "id": "vYwYlTj66cTy"
   },
   "source": [
    "### 1. Computing the mean vector\n",
    "find the mean for each column"
   ]
  },
  {
   "cell_type": "code",
   "execution_count": 51,
   "metadata": {
    "colab": {},
    "colab_type": "code",
    "id": "NzVe0DhDD6n_"
   },
   "outputs": [],
   "source": [
    "import numpy as np\n",
    "mean_vec = np.mean(X_std, axis=0)"
   ]
  },
  {
   "cell_type": "markdown",
   "metadata": {
    "colab_type": "text",
    "id": "cgwr05Lk6gtF"
   },
   "source": [
    "### 2. Computing the Covariance Matrix\n",
    "find the covariance among variables\n"
   ]
  },
  {
   "cell_type": "code",
   "execution_count": 52,
   "metadata": {
    "colab": {
     "base_uri": "https://localhost:8080/",
     "height": 255
    },
    "colab_type": "code",
    "id": "7akP914PD6oA",
    "outputId": "c8679869-5913-43fa-a856-acea7e8d39dd"
   },
   "outputs": [
    {
     "name": "stdout",
     "output_type": "stream",
     "text": [
      "Covariance matrix \n",
      "[[ 1.0006854   0.23801249  0.09265759 ...  0.02782127  0.02428959\n",
      "  -0.09045685]\n",
      " [ 0.23801249  1.0006854   0.33618773 ...  0.01367554 -0.07309658\n",
      "   0.12098879]\n",
      " [ 0.09265759  0.33618773  1.0006854  ... -0.01078847  0.0057153\n",
      "   0.02265091]\n",
      " ...\n",
      " [ 0.02782127  0.01367554 -0.01078847 ...  1.0006854  -0.25217909\n",
      "  -0.03608658]\n",
      " [ 0.02428959 -0.07309658  0.0057153  ... -0.25217909  1.0006854\n",
      "  -0.6547714 ]\n",
      " [-0.09045685  0.12098879  0.02265091 ... -0.03608658 -0.6547714\n",
      "   1.0006854 ]]\n"
     ]
    }
   ],
   "source": [
    "cov_mat = (X_std - mean_vec).T.dot((X_std - mean_vec)) / (X_std.shape[0]-1)\n",
    "print('Covariance matrix \\n%s' %cov_mat)"
   ]
  },
  {
   "cell_type": "markdown",
   "metadata": {
    "colab_type": "text",
    "id": "xPRI35D16iQC"
   },
   "source": [
    "### 3. Computing eigenvectors and corresponding eigenvalues\n",
    "find eigenvalues and eigenvectors\n"
   ]
  },
  {
   "cell_type": "code",
   "execution_count": 53,
   "metadata": {
    "colab": {
     "base_uri": "https://localhost:8080/",
     "height": 1241
    },
    "colab_type": "code",
    "id": "7vpjDJBAD6oC",
    "outputId": "34e360cc-22d0-465d-b63c-a8b7f5a642f7"
   },
   "outputs": [
    {
     "name": "stdout",
     "output_type": "stream",
     "text": [
      "Eigenvectors \n",
      "[[-2.02578360e-02+0.j  5.42189410e-02+0.j -2.46394969e-01+0.j ...\n",
      "   1.69438597e-15+0.j  1.07446555e-14+0.j  1.22338363e-14+0.j]\n",
      " [ 8.56968362e-02+0.j -7.81831120e-02+0.j -1.90661983e-01+0.j ...\n",
      "  -1.33402190e-15+0.j -3.22805904e-15+0.j -4.00965914e-15+0.j]\n",
      " [ 4.33834127e-02+0.j -9.31938282e-02+0.j -1.59697672e-01+0.j ...\n",
      "  -1.12257022e-15+0.j -1.91383667e-15+0.j -1.97183498e-15+0.j]\n",
      " ...\n",
      " [-8.56963601e-03+0.j -5.35441802e-03+0.j -1.05793755e-02+0.j ...\n",
      "  -1.77468305e-02+0.j -7.72849629e-03+0.j -1.79915445e-02+0.j]\n",
      " [-6.10228262e-02+0.j -7.54550046e-02+0.j -2.87315810e-02+0.j ...\n",
      "  -5.85873172e-02+0.j -2.55139567e-02+0.j -5.93951877e-02+0.j]\n",
      " [ 1.23238381e-01+0.j  1.08605042e-01+0.j  5.82208744e-02+0.j ...\n",
      "  -4.27189133e-02+0.j -1.86034888e-02+0.j -4.33079716e-02+0.j]]\n",
      "\n",
      "Eigenvalues \n",
      "[ 1.43545569e+01+0.00000000e+00j  6.99621515e+00+0.00000000e+00j\n",
      "  6.20663538e+00+0.00000000e+00j  5.05060151e+00+0.00000000e+00j\n",
      "  3.91488229e+00+0.00000000e+00j  3.73861775e+00+0.00000000e+00j\n",
      "  3.65370075e+00+0.00000000e+00j  3.32144492e+00+0.00000000e+00j\n",
      "  3.23260169e+00+0.00000000e+00j  3.03040202e+00+0.00000000e+00j\n",
      "  2.83011017e+00+0.00000000e+00j  2.72669888e+00+0.00000000e+00j\n",
      "  2.65285608e+00+0.00000000e+00j  2.58282205e+00+0.00000000e+00j\n",
      "  2.54376496e+00+0.00000000e+00j  2.41257246e+00+0.00000000e+00j\n",
      "  2.33683365e+00+0.00000000e+00j  2.33192654e+00+0.00000000e+00j\n",
      "  2.23626996e+00+0.00000000e+00j  2.18724458e+00+0.00000000e+00j\n",
      "  2.16755587e+00+0.00000000e+00j  2.11114848e+00+0.00000000e+00j\n",
      "  2.07633453e+00+0.00000000e+00j  2.01750905e+00+0.00000000e+00j\n",
      "  1.99756624e+00+0.00000000e+00j  1.92415337e+00+0.00000000e+00j\n",
      "  1.91905970e+00+0.00000000e+00j  1.91126213e+00+0.00000000e+00j\n",
      "  1.88909672e+00+0.00000000e+00j  1.86643301e+00+0.00000000e+00j\n",
      "  1.79463518e+00+0.00000000e+00j  1.77210237e+00+0.00000000e+00j\n",
      "  1.73753321e+00+0.00000000e+00j  1.72266238e+00+0.00000000e+00j\n",
      "  1.68552596e+00+0.00000000e+00j  1.64194869e+00+0.00000000e+00j\n",
      "  1.59976279e+00+0.00000000e+00j  1.57874816e+00+0.00000000e+00j\n",
      "  1.55060507e+00+0.00000000e+00j  1.53335365e+00+0.00000000e+00j\n",
      "  1.51290517e+00+0.00000000e+00j  1.48521476e+00+0.00000000e+00j\n",
      "  1.47017390e+00+0.00000000e+00j  1.45076475e+00+0.00000000e+00j\n",
      "  1.43010518e+00+0.00000000e+00j  1.42038967e+00+0.00000000e+00j\n",
      "  1.40765155e+00+0.00000000e+00j  1.39741649e+00+0.00000000e+00j\n",
      "  1.36675820e+00+0.00000000e+00j  1.36074064e+00+0.00000000e+00j\n",
      "  1.33810847e+00+0.00000000e+00j  1.31631169e+00+0.00000000e+00j\n",
      "  1.30790228e+00+0.00000000e+00j  1.29732267e+00+0.00000000e+00j\n",
      "  1.27685331e+00+0.00000000e+00j  1.26787858e+00+0.00000000e+00j\n",
      "  1.26019580e+00+0.00000000e+00j  1.24104328e+00+0.00000000e+00j\n",
      "  1.22764839e+00+0.00000000e+00j  1.22008131e+00+0.00000000e+00j\n",
      "  1.20363517e+00+0.00000000e+00j  1.18419426e+00+0.00000000e+00j\n",
      "  1.16648207e+00+0.00000000e+00j  1.14719603e+00+0.00000000e+00j\n",
      "  1.14971011e+00+0.00000000e+00j  1.12545902e+00+0.00000000e+00j\n",
      "  1.11907004e+00+0.00000000e+00j  1.11132375e+00+0.00000000e+00j\n",
      "  1.10571834e+00+0.00000000e+00j  1.08776484e+00+0.00000000e+00j\n",
      "  1.07994405e+00+0.00000000e+00j  1.07368413e+00+0.00000000e+00j\n",
      "  1.06794508e+00+0.00000000e+00j  1.06405103e+00+0.00000000e+00j\n",
      "  1.05300676e+00+0.00000000e+00j  1.04978031e+00+0.00000000e+00j\n",
      "  1.02916478e+00+0.00000000e+00j  1.02803900e+00+0.00000000e+00j\n",
      "  1.02483917e+00+0.00000000e+00j  1.00747842e+00+0.00000000e+00j\n",
      "  9.94310112e-01+0.00000000e+00j  9.89478606e-01+0.00000000e+00j\n",
      "  9.71198179e-01+0.00000000e+00j  9.78611310e-01+0.00000000e+00j\n",
      "  9.55610558e-01+0.00000000e+00j  9.52902044e-01+0.00000000e+00j\n",
      "  3.62268994e-02+0.00000000e+00j  2.99572876e-02+0.00000000e+00j\n",
      "  5.30455743e-02+0.00000000e+00j  6.07680803e-02+0.00000000e+00j\n",
      "  1.08317079e-01+0.00000000e+00j  1.01743021e-01+0.00000000e+00j\n",
      "  8.96302956e-02+0.00000000e+00j  8.31487034e-02+0.00000000e+00j\n",
      "  7.28250463e-02+0.00000000e+00j  7.46793788e-02+0.00000000e+00j\n",
      "  7.57930698e-02+0.00000000e+00j  9.37937632e-01+0.00000000e+00j\n",
      "  9.26370197e-01+0.00000000e+00j  9.18761489e-01+0.00000000e+00j\n",
      "  9.05061633e-01+0.00000000e+00j  8.95078489e-01+0.00000000e+00j\n",
      "  8.87191312e-01+0.00000000e+00j  2.14161857e-02+0.00000000e+00j\n",
      "  1.25762079e-01+0.00000000e+00j  1.28979165e-01+0.00000000e+00j\n",
      "  1.45938980e-01+0.00000000e+00j  1.51816394e-01+0.00000000e+00j\n",
      "  1.62028388e-01+0.00000000e+00j  1.66051658e-01+0.00000000e+00j\n",
      "  1.72109155e-01+0.00000000e+00j  1.91004539e-02+0.00000000e+00j\n",
      "  1.59119408e-02+0.00000000e+00j  1.84666128e-01+0.00000000e+00j\n",
      "  8.69716239e-01+0.00000000e+00j  8.66667091e-01+0.00000000e+00j\n",
      "  8.60137190e-01+0.00000000e+00j  8.26116169e-01+0.00000000e+00j\n",
      "  8.17702400e-01+0.00000000e+00j  8.49340811e-01+0.00000000e+00j\n",
      "  8.40828279e-01+0.00000000e+00j  8.41915683e-01+0.00000000e+00j\n",
      "  1.98172440e-01+0.00000000e+00j  2.07054468e-01+0.00000000e+00j\n",
      "  2.09978215e-01+0.00000000e+00j  8.03238374e-01+0.00000000e+00j\n",
      "  2.27496644e-01+0.00000000e+00j  2.29584683e-01+0.00000000e+00j\n",
      "  7.92769127e-01+0.00000000e+00j  1.52009038e-02+0.00000000e+00j\n",
      "  2.35045067e-01+0.00000000e+00j  2.38383160e-01+0.00000000e+00j\n",
      "  2.50762508e-01+0.00000000e+00j  2.65750447e-01+0.00000000e+00j\n",
      "  2.99284502e-01+0.00000000e+00j  2.95256422e-01+0.00000000e+00j\n",
      "  2.77222232e-01+0.00000000e+00j  2.79867688e-01+0.00000000e+00j\n",
      "  7.84913582e-01+0.00000000e+00j  7.75823150e-01+0.00000000e+00j\n",
      "  7.75113318e-01+0.00000000e+00j  7.54954774e-01+0.00000000e+00j\n",
      "  7.11054652e-01+0.00000000e+00j  7.22292906e-01+0.00000000e+00j\n",
      "  7.42272905e-01+0.00000000e+00j  7.37580867e-01+0.00000000e+00j\n",
      "  7.39881524e-01+0.00000000e+00j  7.26648891e-01+0.00000000e+00j\n",
      "  3.34083914e-01+0.00000000e+00j  7.02122913e-01+0.00000000e+00j\n",
      "  6.89626132e-01+0.00000000e+00j  3.13013333e-01+0.00000000e+00j\n",
      "  3.18523968e-01+0.00000000e+00j  3.64813582e-01+0.00000000e+00j\n",
      "  3.43105559e-01+0.00000000e+00j  3.74764116e-01+0.00000000e+00j\n",
      "  3.52685432e-01+0.00000000e+00j  6.78970595e-01+0.00000000e+00j\n",
      "  6.68672075e-01+0.00000000e+00j  6.50959407e-01+0.00000000e+00j\n",
      "  6.56994724e-01+0.00000000e+00j  2.61975975e-01+0.00000000e+00j\n",
      "  4.64665032e-01+0.00000000e+00j  3.88412717e-01+0.00000000e+00j\n",
      "  3.91513347e-01+0.00000000e+00j  4.19978352e-01+0.00000000e+00j\n",
      "  4.12181150e-01+0.00000000e+00j  4.41560928e-01+0.00000000e+00j\n",
      "  4.00702453e-01+0.00000000e+00j  3.48450938e-01+0.00000000e+00j\n",
      "  4.85586410e-01+0.00000000e+00j  4.57389670e-01+0.00000000e+00j\n",
      "  6.41098343e-01+0.00000000e+00j  6.36550522e-01+0.00000000e+00j\n",
      "  3.16685138e-01+0.00000000e+00j  4.91797895e-01+0.00000000e+00j\n",
      "  4.47597330e-01+0.00000000e+00j  4.52683630e-01+0.00000000e+00j\n",
      "  4.35181719e-01+0.00000000e+00j  6.19328838e-01+0.00000000e+00j\n",
      "  6.26104740e-01+0.00000000e+00j  5.04055952e-01+0.00000000e+00j\n",
      "  5.20429518e-01+0.00000000e+00j  6.03220981e-01+0.00000000e+00j\n",
      "  5.96668322e-01+0.00000000e+00j  5.29411244e-01+0.00000000e+00j\n",
      "  5.47896467e-01+0.00000000e+00j  5.62962846e-01+0.00000000e+00j\n",
      "  5.34854822e-01+0.00000000e+00j  5.55766542e-01+0.00000000e+00j\n",
      "  5.76654851e-01+0.00000000e+00j  5.73077868e-01+0.00000000e+00j\n",
      "  5.07897399e-01+0.00000000e+00j  5.90203765e-01+0.00000000e+00j\n",
      "  5.11692705e-01+0.00000000e+00j  6.15787736e-01+0.00000000e+00j\n",
      "  2.65756222e-04+0.00000000e+00j -2.97018925e-15+0.00000000e+00j\n",
      "  3.95235785e-15+0.00000000e+00j -2.34113909e-15+0.00000000e+00j\n",
      "  3.28799766e-15+0.00000000e+00j  2.85095543e-15+0.00000000e+00j\n",
      "  2.69595962e-15+0.00000000e+00j -1.61873766e-15+0.00000000e+00j\n",
      " -1.40919833e-15+0.00000000e+00j -1.17295872e-15+0.00000000e+00j\n",
      " -9.92505491e-16+0.00000000e+00j -8.28004215e-16+0.00000000e+00j\n",
      " -5.06893264e-16+5.98426387e-17j -5.06893264e-16-5.98426387e-17j\n",
      " -1.62581931e-16+0.00000000e+00j -9.36761563e-18+9.40638013e-17j\n",
      " -9.36761563e-18-9.40638013e-17j  3.01640940e-16+0.00000000e+00j\n",
      "  6.22435809e-16+0.00000000e+00j  1.66393085e-15+0.00000000e+00j\n",
      "  1.48017499e-15+0.00000000e+00j  9.37984794e-16+0.00000000e+00j\n",
      "  1.12029119e-15+0.00000000e+00j  1.25539385e-15+0.00000000e+00j]\n"
     ]
    }
   ],
   "source": [
    "eig_vals, eig_vecs = np.linalg.eig(cov_mat)\n",
    "\n",
    "print('Eigenvectors \\n%s' %eig_vecs)\n",
    "print('\\nEigenvalues \\n%s' %eig_vals)"
   ]
  },
  {
   "cell_type": "markdown",
   "metadata": {
    "colab_type": "text",
    "id": "9hOkkCGZ23Vu"
   },
   "source": [
    "If eigen value is high for eigen vector that means the vector has a lot of variance. "
   ]
  },
  {
   "cell_type": "markdown",
   "metadata": {
    "colab_type": "text",
    "id": "zPwr8B_Z6nGD"
   },
   "source": [
    "### 4. Sorting the eigenvectors by decreasing eigenvalues"
   ]
  },
  {
   "cell_type": "code",
   "execution_count": 63,
   "metadata": {
    "colab": {
     "base_uri": "https://localhost:8080/",
     "height": 3791
    },
    "colab_type": "code",
    "id": "2f4WyahDD6oG",
    "outputId": "235be1f2-41f9-43af-f303-594e068671bd"
   },
   "outputs": [
    {
     "name": "stdout",
     "output_type": "stream",
     "text": [
      "Eigenvalues in descending order:\n",
      "14.354556892293935\n",
      "6.996215148464507\n",
      "6.20663538215704\n",
      "5.050601511388265\n",
      "3.9148822941940518\n",
      "3.738617749913083\n",
      "3.653700748964841\n",
      "3.3214449160614734\n",
      "3.2326016851646404\n",
      "3.0304020176182327\n",
      "2.830110167633534\n",
      "2.7266988761934274\n",
      "2.6528560769079506\n",
      "2.582822053609462\n",
      "2.5437649554442157\n",
      "2.412572464650366\n",
      "2.336833654970308\n",
      "2.3319265353354455\n",
      "2.2362699641913246\n",
      "2.1872445838917676\n",
      "2.1675558713066616\n",
      "2.1111484839264696\n",
      "2.0763345309603363\n",
      "2.017509052261763\n",
      "1.9975662405360377\n",
      "1.9241533665963728\n",
      "1.9190597040322495\n",
      "1.9112621264723697\n",
      "1.8890967153605305\n",
      "1.866433012357598\n",
      "1.7946351846919304\n",
      "1.7721023702155196\n",
      "1.7375332104299999\n",
      "1.7226623834575707\n",
      "1.6855259583798943\n",
      "1.6419486912100205\n",
      "1.5997627908956453\n",
      "1.5787481636945795\n",
      "1.550605074789844\n",
      "1.5333536496060316\n",
      "1.5129051744409179\n",
      "1.4852147640064803\n",
      "1.470173900049125\n",
      "1.4507647455154924\n",
      "1.430105182168161\n",
      "1.420389670377835\n",
      "1.4076515484018843\n",
      "1.3974164949097918\n",
      "1.3667581957082062\n",
      "1.3607406402064057\n",
      "1.3381084706303217\n",
      "1.3163116922414748\n",
      "1.3079022818383306\n",
      "1.2973226731004643\n",
      "1.2768533075856738\n",
      "1.2678785763043863\n",
      "1.260195797763747\n",
      "1.241043279651356\n",
      "1.227648390117621\n",
      "1.2200813136880064\n",
      "1.2036351717975124\n",
      "1.1841942610175364\n",
      "1.1664820723548757\n",
      "1.1497101100289377\n",
      "1.1471960341422125\n",
      "1.1254590184301714\n",
      "1.119070044752662\n",
      "1.1113237478920457\n",
      "1.1057183396116916\n",
      "1.0877648358883674\n",
      "1.079944051875726\n",
      "1.0736841335924003\n",
      "1.067945084318575\n",
      "1.0640510285956253\n",
      "1.05300675513235\n",
      "1.0497803082596195\n",
      "1.0291647822908228\n",
      "1.0280389954272189\n",
      "1.0248391740259628\n",
      "1.0074784179977179\n",
      "0.9943101115264359\n",
      "0.9894786062693839\n",
      "0.9786113097418597\n",
      "0.9711981788747439\n",
      "0.9556105577523145\n",
      "0.9529020443177432\n",
      "0.9379376324540541\n",
      "0.9263701972827005\n",
      "0.9187614893253219\n",
      "0.9050616328756979\n",
      "0.8950784888625181\n",
      "0.887191312154085\n",
      "0.8697162388685558\n",
      "0.8666670907273477\n",
      "0.8601371904356698\n",
      "0.8493408106307613\n",
      "0.8419156833322512\n",
      "0.8408282790619016\n",
      "0.8261161687158013\n",
      "0.8177023998381926\n",
      "0.8032383741184346\n",
      "0.792769126988704\n",
      "0.7849135822383155\n",
      "0.77582315045881\n",
      "0.7751133178543218\n",
      "0.7549547743525173\n",
      "0.7422729054874903\n",
      "0.7398815243070052\n",
      "0.7375808670430987\n",
      "0.7266488912320773\n",
      "0.722292905939166\n",
      "0.7110546516539978\n",
      "0.7021229131772321\n",
      "0.6896261322709235\n",
      "0.6789705948180671\n",
      "0.6686720754230521\n",
      "0.6569947237094328\n",
      "0.65095940714789\n",
      "0.6410983427542287\n",
      "0.6365505220554624\n",
      "0.6261047398800069\n",
      "0.6193288384423531\n",
      "0.615787735551757\n",
      "0.6032209805247897\n",
      "0.596668321738041\n",
      "0.5902037650079656\n",
      "0.5766548507558087\n",
      "0.5730778681812934\n",
      "0.5629628456060818\n",
      "0.5557665419149362\n",
      "0.5478964668585037\n",
      "0.5348548220557994\n",
      "0.5294112436146934\n",
      "0.5204295177180334\n",
      "0.51169270518606\n",
      "0.5078973994223854\n",
      "0.5040559517718954\n",
      "0.4917978946024161\n",
      "0.4855864096726782\n",
      "0.46466503245483165\n",
      "0.45738966988457813\n",
      "0.4526836300020265\n",
      "0.44759733012360814\n",
      "0.44156092826410137\n",
      "0.4351817194852483\n",
      "0.41997835230848696\n",
      "0.41218115044108716\n",
      "0.4007024529005408\n",
      "0.3915133467318768\n",
      "0.38841271708630937\n",
      "0.3747641156890992\n",
      "0.3648135815661459\n",
      "0.35268543151826526\n",
      "0.3484509375822442\n",
      "0.3431055586601196\n",
      "0.3340839135764987\n",
      "0.31852396806492905\n",
      "0.3166851380775528\n",
      "0.3130133334546086\n",
      "0.2992845018586839\n",
      "0.2952564215470444\n",
      "0.27986768809606727\n",
      "0.2772222318554904\n",
      "0.2657504474257952\n",
      "0.2619759747684843\n",
      "0.2507625081052335\n",
      "0.23838315977773258\n",
      "0.23504506663986985\n",
      "0.22958468274921934\n",
      "0.2274966444001707\n",
      "0.20997821534141706\n",
      "0.20705446761675886\n",
      "0.19817243996548456\n",
      "0.18466612839669921\n",
      "0.1721091548002671\n",
      "0.16605165820758389\n",
      "0.1620283878460317\n",
      "0.15181639363859542\n",
      "0.14593898045305076\n",
      "0.128979164867694\n",
      "0.125762078785538\n",
      "0.10831707853358807\n",
      "0.10174302069924417\n",
      "0.0896302956273152\n",
      "0.08314870335378317\n",
      "0.07579306980334874\n",
      "0.07467937882228701\n",
      "0.07282504627894262\n",
      "0.06076808028968639\n",
      "0.053045574256234136\n",
      "0.03622689936501742\n",
      "0.02995728759231244\n",
      "0.021416185738571437\n",
      "0.019100453933922037\n",
      "0.01591194079496061\n",
      "0.015200903827295935\n",
      "0.0002657562220326623\n",
      "3.952357845249093e-15\n",
      "3.2879976571118775e-15\n",
      "2.97018924830486e-15\n",
      "2.8509554256550888e-15\n",
      "2.6959596217763603e-15\n",
      "2.3411390865253038e-15\n",
      "1.6639308543543413e-15\n",
      "1.6187376629846803e-15\n",
      "1.4801749856847427e-15\n",
      "1.4091983272206827e-15\n",
      "1.2553938471231605e-15\n",
      "1.1729587152069132e-15\n",
      "1.120291187664925e-15\n",
      "9.925054910048085e-16\n",
      "9.379847942280527e-16\n",
      "8.280042152928216e-16\n",
      "6.224358091502457e-16\n",
      "5.104134822870115e-16\n",
      "5.104134822870115e-16\n",
      "3.016409396184221e-16\n",
      "1.6258193075623174e-16\n",
      "9.452910102605837e-17\n",
      "9.452910102605837e-17\n"
     ]
    }
   ],
   "source": [
    "# Make a list of (eigenvalue, eigenvector) tuples\n",
    "eig_pairs = [[np.abs(eig_vals[i]), eig_vecs[:,i]] for i in range(len(eig_vals))]\n",
    "\n",
    "# Sort the (eigenvalue, eigenvector) tuples from high to low\n",
    "eig_pairs.sort(key=lambda x: x[0], reverse=True)\n",
    "\n",
    "# Visually confirm that the list is correctly sorted by decreasing eigenvalues\n",
    "print('Eigenvalues in descending order:')\n",
    "eig_valu=[]\n",
    "for i in eig_pairs:\n",
    "    eig_valu.append(i[0])\n",
    "    print(i[0])"
   ]
  },
  {
   "cell_type": "markdown",
   "metadata": {
    "colab_type": "text",
    "id": "I-mrD6zs3VHv"
   },
   "source": [
    "All the eigen values are sorted in an ascending order."
   ]
  },
  {
   "cell_type": "markdown",
   "metadata": {
    "colab_type": "text",
    "id": "4wOqhlWkazRt"
   },
   "source": [
    "### 5. Select components based on eigen values"
   ]
  },
  {
   "cell_type": "markdown",
   "metadata": {
    "colab_type": "text",
    "id": "xtl8EubxXsIW"
   },
   "source": [
    "We have 221 components from which we have to select components based on engen value which has high value.\n",
    "\n",
    "Here, filter out eigen values which has above 0.5"
   ]
  },
  {
   "cell_type": "code",
   "execution_count": 72,
   "metadata": {
    "colab": {
     "base_uri": "https://localhost:8080/",
     "height": 34
    },
    "colab_type": "code",
    "id": "JzEl_WZUCAKp",
    "outputId": "137b2dae-9b57-41d5-a94b-de280fd20e90"
   },
   "outputs": [
    {
     "name": "stdout",
     "output_type": "stream",
     "text": [
      "Number of components: 80\n"
     ]
    }
   ],
   "source": [
    "pairs = np.array(eig_pairs)\n",
    "count = 0\n",
    "components = []\n",
    "for i in range(len(eig_pairs)):\n",
    "  if eig_pairs[i][0] >= 1:\n",
    "    count += 1\n",
    "    components.append(pairs[i])\n",
    "    \n",
    "print(\"Number of components: \" + str(count))\n",
    "\n",
    "  "
   ]
  },
  {
   "cell_type": "markdown",
   "metadata": {
    "colab_type": "text",
    "id": "i_EEzqYLZfsr"
   },
   "source": [
    "When we select eigen value as 0.5 or above 0.5, we get 138 components.\n",
    "0.5 is not a threshold eigen value. We use this value to check the percentage of information the selected component carry. if the selected component gives less information, we select more components and this can be achieved by setting eigen value below 0.5."
   ]
  },
  {
   "cell_type": "markdown",
   "metadata": {
    "colab_type": "text",
    "id": "jrhFtpBFZnOt"
   },
   "source": [
    "Let's check how much information the selected components contains."
   ]
  },
  {
   "cell_type": "code",
   "execution_count": 68,
   "metadata": {},
   "outputs": [],
   "source": [
    "pd.DataFrame(eig_valu).to_csv(\"eignval.csv\")"
   ]
  },
  {
   "cell_type": "code",
   "execution_count": null,
   "metadata": {},
   "outputs": [],
   "source": []
  },
  {
   "cell_type": "code",
   "execution_count": 73,
   "metadata": {
    "colab": {},
    "colab_type": "code",
    "id": "LYaXmP9WUXwY"
   },
   "outputs": [],
   "source": [
    "# calculate Explained Variance\n",
    "total = 0\n",
    "ein = []\n",
    "for i in range(len(components)):\n",
    "  total += components[i][0]\n",
    "  ein.append(components[i][0])\n",
    "  \n",
    "#divide eigen value by total eigen value and then multiple with 100 for the selected components   \n",
    "var_exp = [(i / sum(eig_vals))*100 for i in sorted(ein, reverse=True)]\n",
    "cum_var_exp = np.cumsum(var_exp)\n"
   ]
  },
  {
   "cell_type": "code",
   "execution_count": 70,
   "metadata": {
    "colab": {
     "base_uri": "https://localhost:8080/",
     "height": 493
    },
    "colab_type": "code",
    "id": "nKiLvZlaXdTm",
    "outputId": "ab67f133-4e94-47ee-a3c1-325f5f1fa0a2"
   },
   "outputs": [],
   "source": [
    "eig_var=pd.DataFrame(cum_var_exp, columns=[\"Var\"])"
   ]
  },
  {
   "cell_type": "code",
   "execution_count": 71,
   "metadata": {},
   "outputs": [],
   "source": [
    "eig_var.to_csv(\"eig_var1.csv\")"
   ]
  },
  {
   "cell_type": "markdown",
   "metadata": {
    "colab_type": "text",
    "id": "lQWLASc4bNCB"
   },
   "source": [
    "We can notice that 138 components has 93.5% information among all components.\n",
    "\n",
    "When we select 138 components we lose 6.5% information."
   ]
  },
  {
   "cell_type": "markdown",
   "metadata": {
    "colab_type": "text",
    "id": "j5GYxBujbCjY"
   },
   "source": [
    "### 6. Select components based on scree plot"
   ]
  },
  {
   "cell_type": "code",
   "execution_count": 74,
   "metadata": {
    "colab": {
     "base_uri": "https://localhost:8080/",
     "height": 349
    },
    "colab_type": "code",
    "id": "Dndxxsduoudd",
    "outputId": "1ac6e1d8-d6b1-4455-a86d-f9b65e89d885"
   },
   "outputs": [
    {
     "data": {
      "image/png": "[encoded data removed]",
      "text/plain": [
       "<Figure size 576x360 with 1 Axes>"
      ]
     },
     "metadata": {
      "needs_background": "light"
     },
     "output_type": "display_data"
    }
   ],
   "source": [
    "import numpy as np\n",
    "import matplotlib\n",
    "import matplotlib.pyplot as plt\n",
    "\n",
    "#Make a random array and then make it positive-definite\n",
    "num_vars = len(eig_vals)\n",
    "num_obs = 9\n",
    "\n",
    "fig = plt.figure(figsize=(8,5))\n",
    "sing_vals = np.arange(num_vars) + 1\n",
    "plt.plot(sing_vals, eig_vals, 'ro-', linewidth=2)\n",
    "\n",
    "plt.title('Scree Plot')\n",
    "plt.xlabel('Principal Component')\n",
    "plt.ylabel('Eigenvalue')\n",
    "plt.xlim(0,225)                \n",
    "plt.show()"
   ]
  },
  {
   "cell_type": "markdown",
   "metadata": {
    "colab_type": "text",
    "id": "mw1lHYBC2nIE"
   },
   "source": [
    "Scree Plot shows eigen value for each component.\n",
    "starting components has high value and in middle , some componenet has higher than others.\n",
    "What can we do using scree plot?\n",
    "We can select components based scree plot. If we select 150 components based on scree plot, We have to check how much information has the selected components."
   ]
  },
  {
   "cell_type": "markdown",
   "metadata": {
    "colab_type": "text",
    "id": "vKVIqGni0D5A"
   },
   "source": [
    "The following plot to shows percentage of variance explained by each of the selected components."
   ]
  },
  {
   "cell_type": "code",
   "execution_count": 75,
   "metadata": {
    "colab": {},
    "colab_type": "code",
    "id": "QBH5u7P3D5OK"
   },
   "outputs": [],
   "source": [
    "# calculate Explained Variance\n",
    "total = sum(eig_vals)\n",
    "#divide eigen value by total eigen value and then multiple with 100 for the selected components   \n",
    "var_exp = [(i / total)*100 for i in sorted(eig_vals, reverse=True)]\n",
    "cum_var_exp = np.cumsum(var_exp)\n"
   ]
  },
  {
   "cell_type": "code",
   "execution_count": 76,
   "metadata": {
    "colab": {
     "base_uri": "https://localhost:8080/",
     "height": 294
    },
    "colab_type": "code",
    "id": "mTeYhvKAExcR",
    "outputId": "82b6acc6-427c-4216-c69e-7f15b973d167"
   },
   "outputs": [
    {
     "data": {
      "image/png": "[encoded data removed]",
      "text/plain": [
       "<Figure size 432x288 with 1 Axes>"
      ]
     },
     "metadata": {
      "needs_background": "light"
     },
     "output_type": "display_data"
    }
   ],
   "source": [
    "plt.figure()\n",
    "plt.scatter([150],[cum_var_exp[150]],color='g')\n",
    "plt.plot(cum_var_exp)\n",
    "plt.xlabel('Principal Component')\n",
    "plt.ylabel('Variance (%)') #for each component\n",
    "plt.title('Dataset Explained Variance')\n",
    "plt.show()"
   ]
  },
  {
   "cell_type": "markdown",
   "metadata": {
    "colab_type": "text",
    "id": "ERgbHnD0hWYs"
   },
   "source": [
    "From the above plot, we can observe that the variance remains constant after the number of components reaches 150"
   ]
  },
  {
   "cell_type": "code",
   "execution_count": 77,
   "metadata": {
    "colab": {
     "base_uri": "https://localhost:8080/",
     "height": 34
    },
    "colab_type": "code",
    "id": "JL37hiPJEjoc",
    "outputId": "11df24ab-3d98-43bf-9f7c-130eebc7417c"
   },
   "outputs": [
    {
     "data": {
      "text/plain": [
       "(96.24685516598804+0j)"
      ]
     },
     "execution_count": 77,
     "metadata": {},
     "output_type": "execute_result"
    }
   ],
   "source": [
    "cum_var_exp[150]"
   ]
  },
  {
   "cell_type": "markdown",
   "metadata": {
    "colab_type": "text",
    "id": "zbkPPVWxErZ8"
   },
   "source": [
    "From the above result, we can see that the selected 150 components has 96% information. Here we lose 4% information. We have to select less component than original variable, at the same time, the selected component must contain as much as information. "
   ]
  },
  {
   "cell_type": "markdown",
   "metadata": {
    "colab_type": "text",
    "id": "Q_EF20gliFsw"
   },
   "source": [
    "### 7. Deriving the new data set"
   ]
  },
  {
   "cell_type": "markdown",
   "metadata": {
    "colab_type": "text",
    "id": "VDcfG5U_2xzU"
   },
   "source": [
    "Finally, we select only 150 components.\n",
    "Filter out eigen vector of the selected components."
   ]
  },
  {
   "cell_type": "code",
   "execution_count": 78,
   "metadata": {
    "colab": {},
    "colab_type": "code",
    "id": "aQCR9BadpHYH"
   },
   "outputs": [
    {
     "ename": "ValueError",
     "evalue": "cannot reshape array of size 220 into shape (221,1)",
     "output_type": "error",
     "traceback": [
      "\u001b[1;31m---------------------------------------------------------------------------\u001b[0m",
      "\u001b[1;31mValueError\u001b[0m                                Traceback (most recent call last)",
      "\u001b[1;32m<ipython-input-78-fd58e64ab304>\u001b[0m in \u001b[0;36m<module>\u001b[1;34m\u001b[0m\n\u001b[0;32m      4\u001b[0m \u001b[0ma\u001b[0m \u001b[1;33m=\u001b[0m \u001b[0mnp\u001b[0m\u001b[1;33m.\u001b[0m\u001b[0mndarray\u001b[0m\u001b[1;33m(\u001b[0m\u001b[0mshape\u001b[0m \u001b[1;33m=\u001b[0m \u001b[1;33m(\u001b[0m\u001b[0mN\u001b[0m\u001b[1;33m,\u001b[0m \u001b[1;36m0\u001b[0m\u001b[1;33m)\u001b[0m\u001b[1;33m)\u001b[0m\u001b[1;33m\u001b[0m\u001b[1;33m\u001b[0m\u001b[0m\n\u001b[0;32m      5\u001b[0m \u001b[1;32mfor\u001b[0m \u001b[0mi\u001b[0m \u001b[1;32min\u001b[0m \u001b[0mrange\u001b[0m\u001b[1;33m(\u001b[0m\u001b[0mM\u001b[0m\u001b[1;33m)\u001b[0m\u001b[1;33m:\u001b[0m\u001b[1;33m\u001b[0m\u001b[1;33m\u001b[0m\u001b[0m\n\u001b[1;32m----> 6\u001b[1;33m     \u001b[0mb\u001b[0m \u001b[1;33m=\u001b[0m \u001b[0meig_pairs\u001b[0m\u001b[1;33m[\u001b[0m\u001b[0mi\u001b[0m\u001b[1;33m]\u001b[0m\u001b[1;33m[\u001b[0m\u001b[1;36m1\u001b[0m\u001b[1;33m]\u001b[0m\u001b[1;33m.\u001b[0m\u001b[0mreshape\u001b[0m\u001b[1;33m(\u001b[0m\u001b[0mN\u001b[0m\u001b[1;33m,\u001b[0m\u001b[1;36m1\u001b[0m\u001b[1;33m)\u001b[0m\u001b[1;33m\u001b[0m\u001b[1;33m\u001b[0m\u001b[0m\n\u001b[0m\u001b[0;32m      7\u001b[0m     \u001b[0ma\u001b[0m \u001b[1;33m=\u001b[0m \u001b[0mnp\u001b[0m\u001b[1;33m.\u001b[0m\u001b[0mhstack\u001b[0m\u001b[1;33m(\u001b[0m\u001b[1;33m(\u001b[0m\u001b[0ma\u001b[0m\u001b[1;33m,\u001b[0m \u001b[0mb\u001b[0m\u001b[1;33m)\u001b[0m\u001b[1;33m)\u001b[0m\u001b[1;33m\u001b[0m\u001b[1;33m\u001b[0m\u001b[0m\n",
      "\u001b[1;31mValueError\u001b[0m: cannot reshape array of size 220 into shape (221,1)"
     ]
    }
   ],
   "source": [
    "N = 221\n",
    "M = 150\n",
    "\n",
    "a = np.ndarray(shape = (N, 0))\n",
    "for i in range(M):\n",
    "    b = eig_pairs[i][1].reshape(N,1)\n",
    "    a = np.hstack((a, b))"
   ]
  },
  {
   "cell_type": "markdown",
   "metadata": {
    "colab_type": "text",
    "id": "0pQlH9e18UKv"
   },
   "source": [
    "Perform matrix calculation of original dataset with eigen vector of the selected components."
   ]
  },
  {
   "cell_type": "code",
   "execution_count": 0,
   "metadata": {
    "colab": {},
    "colab_type": "code",
    "id": "6-VQzyv9iI8w"
   },
   "outputs": [],
   "source": [
    "# Projection Onto the New Feature Space\n",
    "Y = X_std.dot(a)"
   ]
  },
  {
   "cell_type": "code",
   "execution_count": 60,
   "metadata": {
    "colab": {
     "base_uri": "https://localhost:8080/",
     "height": 34
    },
    "colab_type": "code",
    "id": "ReS64YWtiQh8",
    "outputId": "9cb288c3-cc4e-42a0-f0f9-ed9d04ffa70e"
   },
   "outputs": [
    {
     "data": {
      "text/plain": [
       "(1460, 150)"
      ]
     },
     "execution_count": 60,
     "metadata": {
      "tags": []
     },
     "output_type": "execute_result"
    }
   ],
   "source": [
    "Y.shape"
   ]
  },
  {
   "cell_type": "markdown",
   "metadata": {
    "colab_type": "text",
    "id": "ZGJfSak_-DaM"
   },
   "source": [
    "We reduced the number of columns from 221 to 150."
   ]
  },
  {
   "cell_type": "code",
   "execution_count": 61,
   "metadata": {
    "colab": {
     "base_uri": "https://localhost:8080/",
     "height": 238
    },
    "colab_type": "code",
    "id": "4zubMZwakIZT",
    "outputId": "6c33d1a4-1d40-45e6-dca2-f5691623a50a"
   },
   "outputs": [
    {
     "data": {
      "text/plain": [
       "array([[ 3.15172011, -1.21878173, -0.34350202, ..., -0.05412658,\n",
       "         0.07858162, -0.14685771],\n",
       "       [-0.40369184,  2.94273142, -0.37119922, ..., -0.29748698,\n",
       "        -0.9795956 ,  0.02092249],\n",
       "       [ 3.45984419, -0.84736524, -0.09569296, ...,  0.21419079,\n",
       "         0.2568009 ,  0.14140836],\n",
       "       ...,\n",
       "       [ 0.24086792, -1.7220848 ,  3.21917314, ..., -1.0885956 ,\n",
       "        -1.9170509 ,  0.6719719 ],\n",
       "       [-3.0151936 ,  3.09806924, -1.58955202, ...,  0.59981306,\n",
       "         0.03426459,  0.22867934],\n",
       "       [-0.92426149,  3.52702079, -0.87559633, ...,  0.61270902,\n",
       "        -0.08401412,  0.81225212]])"
      ]
     },
     "execution_count": 61,
     "metadata": {
      "tags": []
     },
     "output_type": "execute_result"
    }
   ],
   "source": [
    "Y"
   ]
  },
  {
   "cell_type": "markdown",
   "metadata": {
    "colab_type": "text",
    "id": "ApY7-c897bT4"
   },
   "source": [
    "# PCA using sklearn"
   ]
  },
  {
   "cell_type": "markdown",
   "metadata": {
    "colab_type": "text",
    "id": "8HFGQ4NKclE5"
   },
   "source": [
    "### Loading PCA module from sklearn\n",
    "loading pca module from sklearn\n"
   ]
  },
  {
   "cell_type": "code",
   "execution_count": 79,
   "metadata": {
    "colab": {},
    "colab_type": "code",
    "id": "OPVHo9iU7aoZ"
   },
   "outputs": [],
   "source": [
    "from sklearn.decomposition import PCA as sklearnPCA"
   ]
  },
  {
   "cell_type": "markdown",
   "metadata": {
    "colab_type": "text",
    "id": "2XQyKvNOc41X"
   },
   "source": [
    "We have 221 columns. So first we choose 221 components"
   ]
  },
  {
   "cell_type": "code",
   "execution_count": 80,
   "metadata": {
    "colab": {},
    "colab_type": "code",
    "id": "5QkbbqTm8Gci"
   },
   "outputs": [],
   "source": [
    "# create instance for pca\n",
    "sklearn_pca = sklearnPCA(n_components=80)\n",
    "\n",
    "# fit and transform the instance on datad\n",
    "Y_sklearn = sklearn_pca.fit_transform(X_std)\n"
   ]
  },
  {
   "cell_type": "code",
   "execution_count": 81,
   "metadata": {
    "colab": {
     "base_uri": "https://localhost:8080/",
     "height": 969
    },
    "colab_type": "code",
    "id": "Kz0XuGaI8Kbl",
    "outputId": "ab442585-e374-438c-99f0-605fdd9dcc47"
   },
   "outputs": [
    {
     "name": "stdout",
     "output_type": "stream",
     "text": [
      "[0.0652033  0.0317792  0.02819265 0.02294155 0.0177827  0.01698204\n",
      " 0.01659632 0.015087   0.01468343 0.013765   0.01285519 0.01238543\n",
      " 0.01204979 0.01173158 0.01155386 0.01095803 0.01061383 0.01059165\n",
      " 0.01015704 0.00993259 0.00984291 0.00958659 0.00942953 0.00916228\n",
      " 0.0090701  0.00873044 0.00871078 0.00867608 0.00857782 0.00847395\n",
      " 0.00814033 0.00804518 0.0078832  0.00781262 0.00764527 0.00743803\n",
      " 0.00725522 0.00713498 0.00701361 0.00695233 0.00684964 0.00671936\n",
      " 0.0066373  0.00657174 0.00648117 0.0064272  0.00634319 0.00632209\n",
      " 0.00619124 0.00613453 0.00599885 0.00595425 0.00586907 0.00584976\n",
      " 0.00572977 0.00571496 0.00563661 0.00559871 0.00553462 0.00546937\n",
      " 0.00540073 0.00526421 0.00521851 0.00509953 0.00505823 0.00501913\n",
      " 0.00495181 0.00491435 0.00487276 0.0047721  0.00473588 0.00471063\n",
      " 0.00468055 0.00461812 0.00457688 0.00448333 0.00445971 0.00444516\n",
      " 0.00442709 0.00438423]\n"
     ]
    }
   ],
   "source": [
    "print(sklearn_pca.explained_variance_ratio_)"
   ]
  },
  {
   "cell_type": "markdown",
   "metadata": {
    "colab_type": "text",
    "id": "2oBOMl1ophyH"
   },
   "source": [
    "Percentage of variance explained by each of the selected components.\n"
   ]
  },
  {
   "cell_type": "markdown",
   "metadata": {
    "colab_type": "text",
    "id": "9eOnJjqonN7f"
   },
   "source": [
    "### Select components based on singular value instead of eigen value as we saw before."
   ]
  },
  {
   "cell_type": "code",
   "execution_count": 82,
   "metadata": {
    "colab": {
     "base_uri": "https://localhost:8080/",
     "height": 969
    },
    "colab_type": "code",
    "id": "uJ1TSjo1mhuR",
    "outputId": "5f5f09c3-e083-4276-f85e-d097861575db"
   },
   "outputs": [
    {
     "data": {
      "text/plain": [
       "array([144.71799648, 101.03206337,  95.16028825,  85.8418711 ,\n",
       "        75.57647562,  73.85546715,  73.01191148,  69.61281966,\n",
       "        68.67544388,  66.49300329,  64.2579841 ,  63.07298599,\n",
       "        62.21248143,  61.38553924,  60.91879507,  59.32723333,\n",
       "        58.38802916,  58.32699326,  57.11779563,  56.48316053,\n",
       "        56.227592  ,  55.49065709,  55.03421696,  54.24872865,\n",
       "        53.97513657,  52.95487168,  52.8951924 ,  52.78975125,\n",
       "        52.48995627,  52.17119572,  51.13388616,  50.83417561,\n",
       "        50.31981526,  50.09404608,  49.55463589,  48.87836115,\n",
       "        48.27396108,  47.87229436,  47.46336363,  47.25555933,\n",
       "        46.90527167,  46.45706207,  46.17252217,  45.94390828,\n",
       "        45.62620439,  45.43586708,  45.1379417 ,  45.06279717,\n",
       "        44.59401769,  44.38930882,  43.89568178,  43.73220261,\n",
       "        43.41826944,  43.34676443,  42.8999222 ,  42.84442407,\n",
       "        42.54971203,  42.40642044,  42.1630016 ,  41.91374738,\n",
       "        41.64989332,  41.12011578,  40.94123958,  40.47184721,\n",
       "        40.30762297,  40.15151027,  39.88134097,  39.73019387,\n",
       "        39.56171723,  39.15097772,  39.00209141,  38.89801413,\n",
       "        38.7736276 ,  38.51415727,  38.34180745,  37.94792728,\n",
       "        37.84783968,  37.78606242,  37.70916195,  37.52616763])"
      ]
     },
     "execution_count": 82,
     "metadata": {},
     "output_type": "execute_result"
    }
   ],
   "source": [
    "\n",
    "sklearn_pca.singular_values_"
   ]
  },
  {
   "cell_type": "code",
   "execution_count": 84,
   "metadata": {
    "colab": {
     "base_uri": "https://localhost:8080/",
     "height": 34
    },
    "colab_type": "code",
    "id": "NMlX0k02nPK8",
    "outputId": "277ff61a-81b0-4420-9215-2685d2b79c00"
   },
   "outputs": [
    {
     "name": "stdout",
     "output_type": "stream",
     "text": [
      "Number of components: 80\n"
     ]
    }
   ],
   "source": [
    "count = 0\n",
    "for i in range(len(sklearn_pca.singular_values_)):\n",
    "    if sklearn_pca.singular_values_[i]>= 22.5:\n",
    "        count += 1\n",
    "\n",
    "print(\"Number of components: \" + str(count))"
   ]
  },
  {
   "cell_type": "markdown",
   "metadata": {
    "colab_type": "text",
    "id": "K9lyAEfeuDDb"
   },
   "source": [
    "When we select singular value as 22.5 , we get 138 components.\n",
    "We use this value to check the percentage of information the selected component carry. If the selected component gives less information, we select more components and this can be achieved by setting singular value below 22.5."
   ]
  },
  {
   "cell_type": "code",
   "execution_count": 86,
   "metadata": {
    "colab": {
     "base_uri": "https://localhost:8080/",
     "height": 34
    },
    "colab_type": "code",
    "id": "C14PW3iNrwC-",
    "outputId": "4d4484ca-7aa9-4e3b-e6d5-ca4da6242737"
   },
   "outputs": [
    {
     "data": {
      "text/plain": [
       "0.7395498256976253"
      ]
     },
     "execution_count": 86,
     "metadata": {},
     "output_type": "execute_result"
    }
   ],
   "source": [
    "cum_sum = np.cumsum(sklearn_pca.explained_variance_ratio_)\n",
    "cum_sum[79]\n"
   ]
  },
  {
   "cell_type": "markdown",
   "metadata": {
    "colab_type": "text",
    "id": "TX4-V_5iC4mJ"
   },
   "source": [
    "155 components has 96.9% of information about dataset."
   ]
  },
  {
   "cell_type": "markdown",
   "metadata": {
    "colab_type": "text",
    "id": "Qhl10eUZbudV"
   },
   "source": [
    "### Select components based on Scree Plot"
   ]
  },
  {
   "cell_type": "code",
   "execution_count": 87,
   "metadata": {
    "colab": {
     "base_uri": "https://localhost:8080/",
     "height": 349
    },
    "colab_type": "code",
    "id": "afwSgj1-qSof",
    "outputId": "270e066d-7505-45db-e205-07b81f302f7d"
   },
   "outputs": [
    {
     "data": {
      "image/png": "[encoded data removed]",
      "text/plain": [
       "<Figure size 576x360 with 1 Axes>"
      ]
     },
     "metadata": {
      "needs_background": "light"
     },
     "output_type": "display_data"
    }
   ],
   "source": [
    "import numpy as np\n",
    "import matplotlib\n",
    "import matplotlib.pyplot as plt\n",
    "\n",
    "#Make a random array and then make it positive-definite\n",
    "num_vars = len(sklearn_pca.singular_values_)\n",
    "num_obs = 9\n",
    "\n",
    "fig = plt.figure(figsize=(8,5))\n",
    "sing_vals = np.arange(num_vars) + 1\n",
    "plt.plot(sing_vals,sklearn_pca.singular_values_, 'ro-', linewidth=2)\n",
    " \n",
    "plt.title('Scree Plot')\n",
    "plt.xlabel('Principal Component')\n",
    "plt.ylabel('Singular value')\n",
    "plt.xlim(0,221)                \n",
    "plt.show()"
   ]
  },
  {
   "cell_type": "markdown",
   "metadata": {
    "colab_type": "text",
    "id": "of8ynfXiu8DK"
   },
   "source": [
    "Scree Plot shows singular value for each component.\n",
    "starting components has high value.\n",
    "What can we do using scree plot? \n",
    "\n",
    "From the above plot, we can observe that 150 components has singular value above 22.5\n",
    "\n",
    "We can select components based on scree plot. If we select 150 components based on scree plot, we have to check how much information does the selected components has."
   ]
  },
  {
   "cell_type": "markdown",
   "metadata": {
    "colab_type": "text",
    "id": "41JhR_oXunRf"
   },
   "source": [
    "The following plot shows percentage of variance explained by each of the selected components."
   ]
  },
  {
   "cell_type": "code",
   "execution_count": 89,
   "metadata": {
    "colab": {
     "base_uri": "https://localhost:8080/",
     "height": 294
    },
    "colab_type": "code",
    "id": "WZyYtyBxJyrg",
    "outputId": "3b585c64-1996-4813-fc16-00181990690b"
   },
   "outputs": [
    {
     "data": {
      "image/png": "[encoded data removed]",
      "text/plain": [
       "<Figure size 432x288 with 1 Axes>"
      ]
     },
     "metadata": {
      "needs_background": "light"
     },
     "output_type": "display_data"
    }
   ],
   "source": [
    "plt.figure()\n",
    "cum_sum = np.cumsum(sklearn_pca.explained_variance_ratio_)\n",
    "plt.scatter([150],[cum_sum[79]],color='r')\n",
    "plt.plot(np.cumsum(sklearn_pca.explained_variance_ratio_))\n",
    "plt.xlabel('Principal Component')\n",
    "plt.ylabel('Variance (%)') #for each component\n",
    "plt.title('Dataset Explained Variance')\n",
    "plt.show()"
   ]
  },
  {
   "cell_type": "markdown",
   "metadata": {
    "colab_type": "text",
    "id": "qwYBU4SZd1_Q"
   },
   "source": [
    "From the above plot, we can observe that the variance remains constant after the number of components reaches 150\n"
   ]
  },
  {
   "cell_type": "code",
   "execution_count": 90,
   "metadata": {
    "colab": {
     "base_uri": "https://localhost:8080/",
     "height": 34
    },
    "colab_type": "code",
    "id": "XwaZFasCfVRQ",
    "outputId": "df205576-a7ba-48aa-c973-9f7e035bd1d2"
   },
   "outputs": [
    {
     "data": {
      "text/plain": [
       "0.7395498256976253"
      ]
     },
     "execution_count": 90,
     "metadata": {},
     "output_type": "execute_result"
    }
   ],
   "source": [
    "cum_sum = np.cumsum(sklearn_pca.explained_variance_ratio_)\n",
    "cum_sum[79]"
   ]
  },
  {
   "cell_type": "markdown",
   "metadata": {
    "colab_type": "text",
    "id": "CcAU8p-mwf-f"
   },
   "source": [
    "150 components has 96% information about the dataset."
   ]
  },
  {
   "cell_type": "markdown",
   "metadata": {
    "colab_type": "text",
    "id": "WWny1QutaBNP"
   },
   "source": [
    "Finaly we select 150 components "
   ]
  },
  {
   "cell_type": "code",
   "execution_count": 92,
   "metadata": {
    "colab": {},
    "colab_type": "code",
    "id": "txLLk17BZ0-K"
   },
   "outputs": [],
   "source": [
    "# create instance for pca\n",
    "sklearn_pca = sklearnPCA(n_components=80)\n",
    "# fit and transform the instance on datad\n",
    "Y_sklearn = sklearn_pca.fit_transform(X_std)"
   ]
  },
  {
   "cell_type": "markdown",
   "metadata": {
    "colab_type": "text",
    "id": "FrcAd-_6753T"
   },
   "source": [
    "### Print the new dataset"
   ]
  },
  {
   "cell_type": "code",
   "execution_count": 93,
   "metadata": {
    "colab": {
     "base_uri": "https://localhost:8080/",
     "height": 238
    },
    "colab_type": "code",
    "id": "fQJ0Q4QE7e6b",
    "outputId": "8fbf226c-7631-4000-c513-1c697fbf30b8"
   },
   "outputs": [
    {
     "data": {
      "text/plain": [
       "array([[ 3.14959506, -1.21443552, -0.33863727, ..., -0.25691596,\n",
       "        -0.45240526, -0.53951177],\n",
       "       [-0.40584724,  2.94715867, -0.36565016, ...,  1.18931247,\n",
       "         0.37902885,  0.7911435 ],\n",
       "       [ 3.45771351, -0.84287362, -0.09065065, ..., -0.62982973,\n",
       "         0.4789582 , -0.31834378],\n",
       "       ...,\n",
       "       [ 0.24296968, -1.72759439,  3.21364397, ..., -1.16536069,\n",
       "         0.23708937, -1.32541459],\n",
       "       [-3.01307174,  3.09345712, -1.5943452 , ...,  0.92993983,\n",
       "         0.40125738, -0.37199676],\n",
       "       [-0.92213622,  3.52225686, -0.88055023, ...,  1.33750831,\n",
       "        -1.04386162,  0.11376966]])"
      ]
     },
     "execution_count": 93,
     "metadata": {},
     "output_type": "execute_result"
    }
   ],
   "source": [
    "Y_sklearn"
   ]
  },
  {
   "cell_type": "markdown",
   "metadata": {
    "colab_type": "text",
    "id": "Lz62EQpM-Dae"
   },
   "source": [
    "We reduced the number of columns from 221 to 150."
   ]
  }
 ],
 "metadata": {
  "colab": {
   "collapsed_sections": [
    "z6waBfEC3WBQ",
    "cHEucwdpf9BO",
    "2oKshLQsjOML",
    "eeqgs8poXkKZ",
    "YG-uBV0qD6mM",
    "lMffE6WEuD3c",
    "2xqWy2N-udup",
    "-ujBPUi2vKRZ",
    "6PLzFF_W5JZA",
    "hlp-Nn4_miIY",
    "FjcLpwhsD6mV",
    "tL13Zl4KD6mc",
    "fDi5GC2LD6mi",
    "GPpr6qW7D6mm",
    "XkMwYsylD6mp",
    "yZydsP79D6mt",
    "q-8lMAVXD6mw",
    "Q60KY8A5D6mz",
    "qhMrJyYE58-S",
    "vYwYlTj66cTy",
    "cgwr05Lk6gtF",
    "xPRI35D16iQC",
    "zPwr8B_Z6nGD",
    "4wOqhlWkazRt",
    "j5GYxBujbCjY",
    "Q_EF20gliFsw",
    "8HFGQ4NKclE5",
    "9eOnJjqonN7f",
    "Qhl10eUZbudV",
    "FrcAd-_6753T"
   ],
   "name": "PCA_with_house_prices.ipynb",
   "provenance": [],
   "version": "0.3.2"
  },
  "kernelspec": {
   "display_name": "Python 3",
   "language": "python",
   "name": "python3"
  },
  "language_info": {
   "codemirror_mode": {
    "name": "ipython",
    "version": 3
   },
   "file_extension": ".py",
   "mimetype": "text/x-python",
   "name": "python",
   "nbconvert_exporter": "python",
   "pygments_lexer": "ipython3",
   "version": "3.7.4"
  }
 },
 "nbformat": 4,
 "nbformat_minor": 1
}
